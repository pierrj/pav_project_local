{
 "cells": [
  {
   "cell_type": "code",
   "execution_count": 1,
   "metadata": {},
   "outputs": [],
   "source": [
    "import csv\n",
    "import pandas as pd\n",
    "import numpy as np\n",
    "import sys"
   ]
  },
  {
   "cell_type": "code",
   "execution_count": null,
   "metadata": {},
   "outputs": [],
   "source": [
    "orthogroup_tsv = sys.argv[1]\n",
    "guy11_data_dir = sys.argv[2]"
   ]
  },
  {
   "cell_type": "code",
   "execution_count": 4,
   "metadata": {},
   "outputs": [],
   "source": [
    "orthogroup_tsv = \"Orthogroups.tsv\"\n",
    "guy11_data_dir = \"guy11_data\""
   ]
  },
  {
   "cell_type": "code",
   "execution_count": 5,
   "metadata": {},
   "outputs": [],
   "source": [
    "og_w_guy11_df = pd.read_csv(orthogroup_tsv, dtype='string', sep='\\t', index_col = 0)\n",
    "\n",
    "## to get the og that a gene belongs to for orthogrouping with guy11\n",
    "df_lol = og_w_guy11_df.values.tolist()\n",
    "\n",
    "og_dict_w_guy11 = {}\n",
    "\n",
    "for i, row in enumerate(df_lol):\n",
    "    og = og_w_guy11_df.index[i]\n",
    "    for cell in row:\n",
    "        if not pd.isnull(cell):\n",
    "            for protein in cell.split(', '):\n",
    "                og_dict_w_guy11[protein] = og\n",
    "\n",
    "## to get all genes associated with one OG for orthogrouping with guy11\n",
    "genes_per_og_w_guy11 = {}\n",
    "\n",
    "for gene in og_dict_w_guy11:\n",
    "    og = og_dict_w_guy11[gene]\n",
    "    if og not in genes_per_og_w_guy11:\n",
    "        genes_per_og_w_guy11[og] = []\n",
    "    genes_per_og_w_guy11[og].append(gene)"
   ]
  },
  {
   "cell_type": "code",
   "execution_count": 7,
   "metadata": {},
   "outputs": [
    {
     "name": "stdout",
     "output_type": "stream",
     "text": [
      "guy11_H3K27ac_per_gene.txt\n",
      "51\n",
      "guy11_H3K27me3_per_gene.txt\n",
      "51\n",
      "guy11_H3K36me3_per_gene.txt\n",
      "51\n",
      "guy11_zhang_et_al_2019_complete_medium_expression.txt\n",
      "51\n",
      "guy11_zhang_et_al_2019_in_planta_expression.txt\n",
      "51\n",
      "guy11_eccdnacov_per_gene.txt\n",
      "51\n",
      "guy11_methylation_per_gene.txt\n",
      "51\n"
     ]
    }
   ],
   "source": [
    "input_files = [\n",
    "    'guy11_H3K27ac_per_gene.txt',\n",
    "    'guy11_H3K27me3_per_gene.txt',\n",
    "    'guy11_H3K36me3_per_gene.txt',\n",
    "    'guy11_zhang_et_al_2019_complete_medium_expression.txt',\n",
    "    'guy11_zhang_et_al_2019_in_planta_expression.txt',\n",
    "    'guy11_eccdnacov_per_gene.txt',\n",
    "    'guy11_methylation_per_gene.txt'\n",
    "]\n",
    "\n",
    "output_files =[\n",
    "    'H3K27ac_per_og.txt',\n",
    "    'H3K27me3_per_og.txt',\n",
    "    'H3K36me3_per_og.txt',\n",
    "    'zhang_et_al_2019_complete_medium_expression_per_og.txt',\n",
    "    'zhang_et_al_2019_in_planta_expression_per_og.txt',\n",
    "    'eccdnacov_per_og.txt',\n",
    "    'methylation_per_og.txt'\n",
    "]\n",
    "\n",
    "\n",
    "for i in range(len(input_files)):\n",
    "    input_file = input_files[i]\n",
    "    print(input_file)\n",
    "    output_file = output_files[i]\n",
    "    signal_per_gene_dict = {}\n",
    "    with open(guy11_data_dir+'/'+input_file, newline = '') as file:\n",
    "        file_reader = csv.reader(file, delimiter = '\\t')\n",
    "        for row in file_reader:\n",
    "            if \"ID=\" in row[0]:\n",
    "                gene = row[0].split(';')[0][3:]\n",
    "            else:\n",
    "                gene = row[0][:-2]\n",
    "            signal_per_gene_dict[gene] = float(row[1])\n",
    "    for og in genes_per_og_w_guy11: ##this is specifically for genes that have no cytosines that can be methylated\n",
    "        for gene in genes_per_og_w_guy11[og]:\n",
    "            if \"GUY11\" in gene and gene not in signal_per_gene_dict:\n",
    "                signal_per_gene_dict[gene] = 0\n",
    "    og_signal_w_guy11 = {}\n",
    "    for og in genes_per_og_w_guy11:\n",
    "        og_signal_w_guy11[og] = []\n",
    "        for gene in genes_per_og_w_guy11[og]:\n",
    "            if \"GUY11\" in gene:\n",
    "                og_signal_w_guy11[og].append(signal_per_gene_dict[gene])\n",
    "    og_signal_w_guy11_averaged = {}\n",
    "    for og in og_signal_w_guy11:\n",
    "        lst = og_signal_w_guy11[og]\n",
    "        if len(lst) > 1:\n",
    "            og_signal_w_guy11_averaged[og] = sum(lst) / len(lst)\n",
    "        elif len(lst) == 1:\n",
    "            og_signal_w_guy11_averaged[og] = lst[0]\n",
    "        elif len(lst) == 0:\n",
    "            pass\n",
    "        else:\n",
    "            print('wtf')\n",
    "    median_value = np.median(list(og_signal_w_guy11_averaged.values()))\n",
    "    imputed_values = []\n",
    "    for og in og_signal_w_guy11:\n",
    "        if og not in og_signal_w_guy11_averaged:\n",
    "            imputed_values.append(og)\n",
    "            og_signal_w_guy11_averaged[og] = median_value\n",
    "    print(len(imputed_values))\n",
    "    with open(output_file, 'w', newline = '') as output_csv:\n",
    "        w = csv.writer(output_csv, delimiter = '\\t')\n",
    "        for key in og_signal_w_guy11_averaged:\n",
    "            w.writerow([key, og_signal_w_guy11_averaged[key]])"
   ]
  }
 ],
 "metadata": {
  "kernelspec": {
   "display_name": "Python 3.10.5 ('imbalanced_learn')",
   "language": "python",
   "name": "python3"
  },
  "language_info": {
   "codemirror_mode": {
    "name": "ipython",
    "version": 3
   },
   "file_extension": ".py",
   "mimetype": "text/x-python",
   "name": "python",
   "nbconvert_exporter": "python",
   "pygments_lexer": "ipython3",
   "version": "3.10.5"
  },
  "orig_nbformat": 4,
  "vscode": {
   "interpreter": {
    "hash": "c2315821898a4f1de250b11175021d0bad67aa42c758ebaa32223c2f00dcd7fb"
   }
  }
 },
 "nbformat": 4,
 "nbformat_minor": 2
}
