{
 "cells": [
  {
   "cell_type": "code",
   "execution_count": 12,
   "metadata": {},
   "outputs": [],
   "source": [
    "import pandas as pd\n",
    "from rfpimp import *\n",
    "import numpy as np\n",
    "from pandas.api.types import is_bool_dtype\n",
    "from sklearn.ensemble import RandomForestClassifier\n",
    "from imblearn.over_sampling import SMOTE\n",
    "from imblearn.ensemble import BalancedRandomForestClassifier\n",
    "from sklearn.metrics import average_precision_score\n",
    "from sklearn.metrics import roc_auc_score\n",
    "import sys\n",
    "from sklearn.metrics import precision_recall_curve\n",
    "from sklearn.metrics import plot_confusion_matrix\n",
    "import matplotlib.pyplot as plt\n",
    "import pickle\n",
    "from sklearn.metrics import f1_score\n",
    "from sklearn.metrics import r2_score"
   ]
  },
  {
   "cell_type": "code",
   "execution_count": 2,
   "metadata": {},
   "outputs": [],
   "source": [
    "input_df = '../gene_info.full_model.rice_blast.txt'\n",
    "majority_fraction =  0.05 ## just to get trues and falses balanced well\n",
    "approach = 'RF'\n",
    "n_estimators = 200\n",
    "min_samples_split =  2\n",
    "min_samples_leaf = 1\n",
    "max_features = 'None'\n",
    "max_depth = 'None'\n",
    "bootstrap = 'True'"
   ]
  },
  {
   "cell_type": "code",
   "execution_count": 3,
   "metadata": {},
   "outputs": [],
   "source": [
    "def none_or_str(value):\n",
    "    if value == 'None':\n",
    "        return None\n",
    "    return value\n",
    "\n",
    "max_features = none_or_str(max_features)\n",
    "\n",
    "\n",
    "def none_or_int(value):\n",
    "    if value == 'None':\n",
    "        return None\n",
    "    return int(value)\n",
    "\n",
    "max_depth = none_or_int(max_depth)"
   ]
  },
  {
   "cell_type": "code",
   "execution_count": 4,
   "metadata": {},
   "outputs": [],
   "source": [
    "args_dict = {\n",
    "    \"n_estimators\": n_estimators,\n",
    "    \"min_samples_split\": min_samples_split,\n",
    "    \"min_samples_leaf\": min_samples_leaf,\n",
    "    \"max_features\": max_features,\n",
    "    \"max_depth\": max_depth,\n",
    "    \"bootstrap\": bootstrap\n",
    "}"
   ]
  },
  {
   "cell_type": "code",
   "execution_count": 5,
   "metadata": {},
   "outputs": [],
   "source": [
    "if approach == \"SMOTE\":\n",
    "    oversample = SMOTE()\n",
    "    over_X_train, over_y_train = oversample.fit_resample(X_train, y_train)\n",
    "    X_train = over_X_train\n",
    "    y_train = over_y_train\n",
    "if approach == \"BRFC\":\n",
    "    model = BalancedRandomForestClassifier(**args_dict)\n",
    "elif approach == \"RF_balanced\":\n",
    "    model = RandomForestClassifier(class_weight=\"balanced\", **args_dict)\n",
    "elif approach == \"RF_balanced_subsample\":\n",
    "    model = RandomForestClassifier(class_weight=\"balanced_subsample\", **args_dict)\n",
    "elif approach == \"RF\":\n",
    "    model = RandomForestClassifier(**args_dict)\n",
    "elif approach == \"SMOTE\":\n",
    "    model = RandomForestClassifier(**args_dict)"
   ]
  },
  {
   "cell_type": "code",
   "execution_count": 6,
   "metadata": {},
   "outputs": [],
   "source": [
    "def train_test_split_mine_downsample(majority_fraction):\n",
    "    df_genes = pd.read_csv(input_df)\n",
    "    df_genes = df_genes[df_genes['lineage']!=4]\n",
    "    ## pick 4 genomes per lineage as testing data\n",
    "    genome_test_subset = []\n",
    "    for lineage in np.unique(df_genes.lineage):\n",
    "        for genome in np.random.choice(df_genes[df_genes.lineage == lineage].genome, size=4,replace=False):\n",
    "            genome_test_subset.append(genome)\n",
    "    df_genes_test_subset = df_genes[df_genes.genome.isin(genome_test_subset)]\n",
    "    df_genes = df_genes[~df_genes.genome.isin(genome_test_subset)]\n",
    "    if majority_fraction != 1.0:\n",
    "        pav_true_subset = df_genes[df_genes['lineage_pav']==True].id\n",
    "        pav_false_subset_downsampled = np.random.choice(df_genes[df_genes['lineage_pav'] == False].id, size=int(len(df_genes.index)*majority_fraction),replace=False)\n",
    "        df_genes_downsampled = df_genes[(df_genes.id.isin(pav_false_subset_downsampled)) | (df_genes.id.isin(pav_true_subset))]\n",
    "    else:\n",
    "        df_genes_downsampled = df_genes\n",
    "    # drop columns\n",
    "    df_genes_downsampled = df_genes_downsampled.drop(['id', 'scaffold', 'start', 'end', 'orientation', 'orthogroups', 'enough_space_te', 'enough_space_gene',\n",
    "                            'genome', 'lineage', 'lineage_conserved', 'proportion'], axis=1)\n",
    "    df_genes_test_subset = df_genes_test_subset.drop(['id', 'scaffold', 'start', 'end', 'orientation', 'orthogroups', 'enough_space_te', 'enough_space_gene',\n",
    "                            'genome', 'lineage', 'lineage_conserved', 'proportion'], axis=1)\n",
    "    y_train = df_genes_downsampled['lineage_pav']\n",
    "    X_train = df_genes_downsampled.drop('lineage_pav', axis=1)\n",
    "    y_test = df_genes_test_subset['lineage_pav']\n",
    "    X_test = df_genes_test_subset.drop('lineage_pav', axis=1)\n",
    "    return(y_train,X_train,y_test,X_test)"
   ]
  },
  {
   "cell_type": "code",
   "execution_count": 19,
   "metadata": {},
   "outputs": [],
   "source": [
    "y_train,X_train,y_test,X_test = train_test_split_mine_downsample(majority_fraction)"
   ]
  },
  {
   "cell_type": "code",
   "execution_count": 20,
   "metadata": {},
   "outputs": [
    {
     "data": {
      "text/html": [
       "<div>\n",
       "<style scoped>\n",
       "    .dataframe tbody tr th:only-of-type {\n",
       "        vertical-align: middle;\n",
       "    }\n",
       "\n",
       "    .dataframe tbody tr th {\n",
       "        vertical-align: top;\n",
       "    }\n",
       "\n",
       "    .dataframe thead th {\n",
       "        text-align: right;\n",
       "    }\n",
       "</style>\n",
       "<table border=\"1\" class=\"dataframe\">\n",
       "  <thead>\n",
       "    <tr style=\"text-align: right;\">\n",
       "      <th></th>\n",
       "      <th>any_te</th>\n",
       "      <th>gene_nearby</th>\n",
       "      <th>gene_gc</th>\n",
       "      <th>flanking_1kb_gc</th>\n",
       "      <th>lengths</th>\n",
       "      <th>tm</th>\n",
       "      <th>signalp</th>\n",
       "      <th>effectorp</th>\n",
       "      <th>H3K27ac</th>\n",
       "      <th>H3K27me3</th>\n",
       "      <th>H3K36me3</th>\n",
       "      <th>cm_expression</th>\n",
       "      <th>ip_expression</th>\n",
       "      <th>eccdna_cov</th>\n",
       "      <th>methylation</th>\n",
       "      <th>go</th>\n",
       "      <th>pfam</th>\n",
       "    </tr>\n",
       "  </thead>\n",
       "  <tbody>\n",
       "    <tr>\n",
       "      <th>gene_0_FJ2000-69A_3_NA</th>\n",
       "      <td>False</td>\n",
       "      <td>True</td>\n",
       "      <td>0.453237</td>\n",
       "      <td>0.445479</td>\n",
       "      <td>5002</td>\n",
       "      <td>False</td>\n",
       "      <td>False</td>\n",
       "      <td>False</td>\n",
       "      <td>51.4109</td>\n",
       "      <td>39.2929</td>\n",
       "      <td>87.1494</td>\n",
       "      <td>5.628200</td>\n",
       "      <td>26.385855</td>\n",
       "      <td>74.77895</td>\n",
       "      <td>0.427901</td>\n",
       "      <td>True</td>\n",
       "      <td>True</td>\n",
       "    </tr>\n",
       "    <tr>\n",
       "      <th>gene_0_FJ81-JY_2_NA</th>\n",
       "      <td>False</td>\n",
       "      <td>True</td>\n",
       "      <td>0.458753</td>\n",
       "      <td>0.267000</td>\n",
       "      <td>254</td>\n",
       "      <td>False</td>\n",
       "      <td>False</td>\n",
       "      <td>False</td>\n",
       "      <td>65.2760</td>\n",
       "      <td>37.8795</td>\n",
       "      <td>87.1011</td>\n",
       "      <td>9.176440</td>\n",
       "      <td>21.211200</td>\n",
       "      <td>60.57185</td>\n",
       "      <td>0.384700</td>\n",
       "      <td>False</td>\n",
       "      <td>False</td>\n",
       "    </tr>\n",
       "    <tr>\n",
       "      <th>gene_0_FJ81221ZB11-14_2_NA</th>\n",
       "      <td>False</td>\n",
       "      <td>True</td>\n",
       "      <td>0.453067</td>\n",
       "      <td>0.496495</td>\n",
       "      <td>3872</td>\n",
       "      <td>True</td>\n",
       "      <td>False</td>\n",
       "      <td>False</td>\n",
       "      <td>86.7433</td>\n",
       "      <td>34.3371</td>\n",
       "      <td>77.4797</td>\n",
       "      <td>10.315900</td>\n",
       "      <td>42.458200</td>\n",
       "      <td>45.69220</td>\n",
       "      <td>0.452081</td>\n",
       "      <td>True</td>\n",
       "      <td>True</td>\n",
       "    </tr>\n",
       "    <tr>\n",
       "      <th>gene_0_FJ86061ZE3-39_2_NA</th>\n",
       "      <td>False</td>\n",
       "      <td>False</td>\n",
       "      <td>0.429121</td>\n",
       "      <td>0.408678</td>\n",
       "      <td>754</td>\n",
       "      <td>False</td>\n",
       "      <td>False</td>\n",
       "      <td>False</td>\n",
       "      <td>34.2481</td>\n",
       "      <td>221.7650</td>\n",
       "      <td>67.6130</td>\n",
       "      <td>0.043725</td>\n",
       "      <td>0.000000</td>\n",
       "      <td>133.57500</td>\n",
       "      <td>0.486362</td>\n",
       "      <td>False</td>\n",
       "      <td>False</td>\n",
       "    </tr>\n",
       "    <tr>\n",
       "      <th>gene_0_HN10-1604_3_NA</th>\n",
       "      <td>False</td>\n",
       "      <td>True</td>\n",
       "      <td>0.411036</td>\n",
       "      <td>0.500410</td>\n",
       "      <td>1715</td>\n",
       "      <td>False</td>\n",
       "      <td>True</td>\n",
       "      <td>False</td>\n",
       "      <td>91.6172</td>\n",
       "      <td>35.9223</td>\n",
       "      <td>90.5586</td>\n",
       "      <td>98.656500</td>\n",
       "      <td>840.078000</td>\n",
       "      <td>132.29100</td>\n",
       "      <td>0.415035</td>\n",
       "      <td>True</td>\n",
       "      <td>True</td>\n",
       "    </tr>\n",
       "    <tr>\n",
       "      <th>...</th>\n",
       "      <td>...</td>\n",
       "      <td>...</td>\n",
       "      <td>...</td>\n",
       "      <td>...</td>\n",
       "      <td>...</td>\n",
       "      <td>...</td>\n",
       "      <td>...</td>\n",
       "      <td>...</td>\n",
       "      <td>...</td>\n",
       "      <td>...</td>\n",
       "      <td>...</td>\n",
       "      <td>...</td>\n",
       "      <td>...</td>\n",
       "      <td>...</td>\n",
       "      <td>...</td>\n",
       "      <td>...</td>\n",
       "      <td>...</td>\n",
       "    </tr>\n",
       "    <tr>\n",
       "      <th>gene_9999_ML33_3_NA</th>\n",
       "      <td>True</td>\n",
       "      <td>False</td>\n",
       "      <td>0.375918</td>\n",
       "      <td>0.500000</td>\n",
       "      <td>1923</td>\n",
       "      <td>False</td>\n",
       "      <td>False</td>\n",
       "      <td>False</td>\n",
       "      <td>65.2760</td>\n",
       "      <td>37.8795</td>\n",
       "      <td>87.1011</td>\n",
       "      <td>9.176440</td>\n",
       "      <td>21.211200</td>\n",
       "      <td>60.57185</td>\n",
       "      <td>0.384700</td>\n",
       "      <td>False</td>\n",
       "      <td>False</td>\n",
       "    </tr>\n",
       "    <tr>\n",
       "      <th>gene_9999_TW-12HL-YL2-1_2_NA</th>\n",
       "      <td>True</td>\n",
       "      <td>False</td>\n",
       "      <td>0.341811</td>\n",
       "      <td>0.476836</td>\n",
       "      <td>2778</td>\n",
       "      <td>False</td>\n",
       "      <td>False</td>\n",
       "      <td>False</td>\n",
       "      <td>65.2760</td>\n",
       "      <td>37.8795</td>\n",
       "      <td>87.1011</td>\n",
       "      <td>9.176440</td>\n",
       "      <td>21.211200</td>\n",
       "      <td>60.57185</td>\n",
       "      <td>0.384700</td>\n",
       "      <td>False</td>\n",
       "      <td>True</td>\n",
       "    </tr>\n",
       "    <tr>\n",
       "      <th>gene_9999_TW-12YL-DL3-2_2_NA</th>\n",
       "      <td>False</td>\n",
       "      <td>True</td>\n",
       "      <td>0.380651</td>\n",
       "      <td>0.519000</td>\n",
       "      <td>1232</td>\n",
       "      <td>True</td>\n",
       "      <td>False</td>\n",
       "      <td>False</td>\n",
       "      <td>28.1625</td>\n",
       "      <td>386.9880</td>\n",
       "      <td>117.5050</td>\n",
       "      <td>0.239078</td>\n",
       "      <td>18.825700</td>\n",
       "      <td>51.63340</td>\n",
       "      <td>0.321447</td>\n",
       "      <td>True</td>\n",
       "      <td>False</td>\n",
       "    </tr>\n",
       "    <tr>\n",
       "      <th>gene_9999_TW-PT3-1_2_NA</th>\n",
       "      <td>False</td>\n",
       "      <td>True</td>\n",
       "      <td>0.382353</td>\n",
       "      <td>0.482000</td>\n",
       "      <td>1291</td>\n",
       "      <td>False</td>\n",
       "      <td>False</td>\n",
       "      <td>False</td>\n",
       "      <td>45.0907</td>\n",
       "      <td>70.6030</td>\n",
       "      <td>66.9313</td>\n",
       "      <td>8.807950</td>\n",
       "      <td>23.150100</td>\n",
       "      <td>36.76930</td>\n",
       "      <td>0.325584</td>\n",
       "      <td>True</td>\n",
       "      <td>True</td>\n",
       "    </tr>\n",
       "    <tr>\n",
       "      <th>gene_9999_YN07205e_3_NA</th>\n",
       "      <td>True</td>\n",
       "      <td>False</td>\n",
       "      <td>0.498812</td>\n",
       "      <td>0.573500</td>\n",
       "      <td>623</td>\n",
       "      <td>False</td>\n",
       "      <td>False</td>\n",
       "      <td>False</td>\n",
       "      <td>24.3531</td>\n",
       "      <td>377.6620</td>\n",
       "      <td>118.8360</td>\n",
       "      <td>0.089489</td>\n",
       "      <td>0.000000</td>\n",
       "      <td>68.31150</td>\n",
       "      <td>0.288210</td>\n",
       "      <td>False</td>\n",
       "      <td>False</td>\n",
       "    </tr>\n",
       "  </tbody>\n",
       "</table>\n",
       "<p>64965 rows × 17 columns</p>\n",
       "</div>"
      ],
      "text/plain": [
       "                              any_te  gene_nearby   gene_gc  flanking_1kb_gc  \\\n",
       "gene_0_FJ2000-69A_3_NA         False         True  0.453237         0.445479   \n",
       "gene_0_FJ81-JY_2_NA            False         True  0.458753         0.267000   \n",
       "gene_0_FJ81221ZB11-14_2_NA     False         True  0.453067         0.496495   \n",
       "gene_0_FJ86061ZE3-39_2_NA      False        False  0.429121         0.408678   \n",
       "gene_0_HN10-1604_3_NA          False         True  0.411036         0.500410   \n",
       "...                              ...          ...       ...              ...   \n",
       "gene_9999_ML33_3_NA             True        False  0.375918         0.500000   \n",
       "gene_9999_TW-12HL-YL2-1_2_NA    True        False  0.341811         0.476836   \n",
       "gene_9999_TW-12YL-DL3-2_2_NA   False         True  0.380651         0.519000   \n",
       "gene_9999_TW-PT3-1_2_NA        False         True  0.382353         0.482000   \n",
       "gene_9999_YN07205e_3_NA         True        False  0.498812         0.573500   \n",
       "\n",
       "                              lengths     tm  signalp  effectorp  H3K27ac  \\\n",
       "gene_0_FJ2000-69A_3_NA           5002  False    False      False  51.4109   \n",
       "gene_0_FJ81-JY_2_NA               254  False    False      False  65.2760   \n",
       "gene_0_FJ81221ZB11-14_2_NA       3872   True    False      False  86.7433   \n",
       "gene_0_FJ86061ZE3-39_2_NA         754  False    False      False  34.2481   \n",
       "gene_0_HN10-1604_3_NA            1715  False     True      False  91.6172   \n",
       "...                               ...    ...      ...        ...      ...   \n",
       "gene_9999_ML33_3_NA              1923  False    False      False  65.2760   \n",
       "gene_9999_TW-12HL-YL2-1_2_NA     2778  False    False      False  65.2760   \n",
       "gene_9999_TW-12YL-DL3-2_2_NA     1232   True    False      False  28.1625   \n",
       "gene_9999_TW-PT3-1_2_NA          1291  False    False      False  45.0907   \n",
       "gene_9999_YN07205e_3_NA           623  False    False      False  24.3531   \n",
       "\n",
       "                              H3K27me3  H3K36me3  cm_expression  \\\n",
       "gene_0_FJ2000-69A_3_NA         39.2929   87.1494       5.628200   \n",
       "gene_0_FJ81-JY_2_NA            37.8795   87.1011       9.176440   \n",
       "gene_0_FJ81221ZB11-14_2_NA     34.3371   77.4797      10.315900   \n",
       "gene_0_FJ86061ZE3-39_2_NA     221.7650   67.6130       0.043725   \n",
       "gene_0_HN10-1604_3_NA          35.9223   90.5586      98.656500   \n",
       "...                                ...       ...            ...   \n",
       "gene_9999_ML33_3_NA            37.8795   87.1011       9.176440   \n",
       "gene_9999_TW-12HL-YL2-1_2_NA   37.8795   87.1011       9.176440   \n",
       "gene_9999_TW-12YL-DL3-2_2_NA  386.9880  117.5050       0.239078   \n",
       "gene_9999_TW-PT3-1_2_NA        70.6030   66.9313       8.807950   \n",
       "gene_9999_YN07205e_3_NA       377.6620  118.8360       0.089489   \n",
       "\n",
       "                              ip_expression  eccdna_cov  methylation     go  \\\n",
       "gene_0_FJ2000-69A_3_NA            26.385855    74.77895     0.427901   True   \n",
       "gene_0_FJ81-JY_2_NA               21.211200    60.57185     0.384700  False   \n",
       "gene_0_FJ81221ZB11-14_2_NA        42.458200    45.69220     0.452081   True   \n",
       "gene_0_FJ86061ZE3-39_2_NA          0.000000   133.57500     0.486362  False   \n",
       "gene_0_HN10-1604_3_NA            840.078000   132.29100     0.415035   True   \n",
       "...                                     ...         ...          ...    ...   \n",
       "gene_9999_ML33_3_NA               21.211200    60.57185     0.384700  False   \n",
       "gene_9999_TW-12HL-YL2-1_2_NA      21.211200    60.57185     0.384700  False   \n",
       "gene_9999_TW-12YL-DL3-2_2_NA      18.825700    51.63340     0.321447   True   \n",
       "gene_9999_TW-PT3-1_2_NA           23.150100    36.76930     0.325584   True   \n",
       "gene_9999_YN07205e_3_NA            0.000000    68.31150     0.288210  False   \n",
       "\n",
       "                               pfam  \n",
       "gene_0_FJ2000-69A_3_NA         True  \n",
       "gene_0_FJ81-JY_2_NA           False  \n",
       "gene_0_FJ81221ZB11-14_2_NA     True  \n",
       "gene_0_FJ86061ZE3-39_2_NA     False  \n",
       "gene_0_HN10-1604_3_NA          True  \n",
       "...                             ...  \n",
       "gene_9999_ML33_3_NA           False  \n",
       "gene_9999_TW-12HL-YL2-1_2_NA   True  \n",
       "gene_9999_TW-12YL-DL3-2_2_NA  False  \n",
       "gene_9999_TW-PT3-1_2_NA        True  \n",
       "gene_9999_YN07205e_3_NA       False  \n",
       "\n",
       "[64965 rows x 17 columns]"
      ]
     },
     "execution_count": 20,
     "metadata": {},
     "output_type": "execute_result"
    }
   ],
   "source": [
    "X_train"
   ]
  },
  {
   "cell_type": "code",
   "execution_count": 22,
   "metadata": {},
   "outputs": [],
   "source": [
    "model = RandomForestRegressor(**args_dict)"
   ]
  },
  {
   "cell_type": "code",
   "execution_count": 10,
   "metadata": {},
   "outputs": [],
   "source": [
    "y = X_train['lengths']\n",
    "x = X_train['H3K36me3']"
   ]
  },
  {
   "cell_type": "code",
   "execution_count": 11,
   "metadata": {},
   "outputs": [
    {
     "data": {
      "text/html": [
       "<style>#sk-container-id-1 {color: black;background-color: white;}#sk-container-id-1 pre{padding: 0;}#sk-container-id-1 div.sk-toggleable {background-color: white;}#sk-container-id-1 label.sk-toggleable__label {cursor: pointer;display: block;width: 100%;margin-bottom: 0;padding: 0.3em;box-sizing: border-box;text-align: center;}#sk-container-id-1 label.sk-toggleable__label-arrow:before {content: \"▸\";float: left;margin-right: 0.25em;color: #696969;}#sk-container-id-1 label.sk-toggleable__label-arrow:hover:before {color: black;}#sk-container-id-1 div.sk-estimator:hover label.sk-toggleable__label-arrow:before {color: black;}#sk-container-id-1 div.sk-toggleable__content {max-height: 0;max-width: 0;overflow: hidden;text-align: left;background-color: #f0f8ff;}#sk-container-id-1 div.sk-toggleable__content pre {margin: 0.2em;color: black;border-radius: 0.25em;background-color: #f0f8ff;}#sk-container-id-1 input.sk-toggleable__control:checked~div.sk-toggleable__content {max-height: 200px;max-width: 100%;overflow: auto;}#sk-container-id-1 input.sk-toggleable__control:checked~label.sk-toggleable__label-arrow:before {content: \"▾\";}#sk-container-id-1 div.sk-estimator input.sk-toggleable__control:checked~label.sk-toggleable__label {background-color: #d4ebff;}#sk-container-id-1 div.sk-label input.sk-toggleable__control:checked~label.sk-toggleable__label {background-color: #d4ebff;}#sk-container-id-1 input.sk-hidden--visually {border: 0;clip: rect(1px 1px 1px 1px);clip: rect(1px, 1px, 1px, 1px);height: 1px;margin: -1px;overflow: hidden;padding: 0;position: absolute;width: 1px;}#sk-container-id-1 div.sk-estimator {font-family: monospace;background-color: #f0f8ff;border: 1px dotted black;border-radius: 0.25em;box-sizing: border-box;margin-bottom: 0.5em;}#sk-container-id-1 div.sk-estimator:hover {background-color: #d4ebff;}#sk-container-id-1 div.sk-parallel-item::after {content: \"\";width: 100%;border-bottom: 1px solid gray;flex-grow: 1;}#sk-container-id-1 div.sk-label:hover label.sk-toggleable__label {background-color: #d4ebff;}#sk-container-id-1 div.sk-serial::before {content: \"\";position: absolute;border-left: 1px solid gray;box-sizing: border-box;top: 0;bottom: 0;left: 50%;z-index: 0;}#sk-container-id-1 div.sk-serial {display: flex;flex-direction: column;align-items: center;background-color: white;padding-right: 0.2em;padding-left: 0.2em;position: relative;}#sk-container-id-1 div.sk-item {position: relative;z-index: 1;}#sk-container-id-1 div.sk-parallel {display: flex;align-items: stretch;justify-content: center;background-color: white;position: relative;}#sk-container-id-1 div.sk-item::before, #sk-container-id-1 div.sk-parallel-item::before {content: \"\";position: absolute;border-left: 1px solid gray;box-sizing: border-box;top: 0;bottom: 0;left: 50%;z-index: -1;}#sk-container-id-1 div.sk-parallel-item {display: flex;flex-direction: column;z-index: 1;position: relative;background-color: white;}#sk-container-id-1 div.sk-parallel-item:first-child::after {align-self: flex-end;width: 50%;}#sk-container-id-1 div.sk-parallel-item:last-child::after {align-self: flex-start;width: 50%;}#sk-container-id-1 div.sk-parallel-item:only-child::after {width: 0;}#sk-container-id-1 div.sk-dashed-wrapped {border: 1px dashed gray;margin: 0 0.4em 0.5em 0.4em;box-sizing: border-box;padding-bottom: 0.4em;background-color: white;}#sk-container-id-1 div.sk-label label {font-family: monospace;font-weight: bold;display: inline-block;line-height: 1.2em;}#sk-container-id-1 div.sk-label-container {text-align: center;}#sk-container-id-1 div.sk-container {/* jupyter's `normalize.less` sets `[hidden] { display: none; }` but bootstrap.min.css set `[hidden] { display: none !important; }` so we also need the `!important` here to be able to override the default hidden behavior on the sphinx rendered scikit-learn.org. See: https://github.com/scikit-learn/scikit-learn/issues/21755 */display: inline-block !important;position: relative;}#sk-container-id-1 div.sk-text-repr-fallback {display: none;}</style><div id=\"sk-container-id-1\" class=\"sk-top-container\"><div class=\"sk-text-repr-fallback\"><pre>RandomForestRegressor(bootstrap=&#x27;True&#x27;, max_features=None, n_estimators=200)</pre><b>In a Jupyter environment, please rerun this cell to show the HTML representation or trust the notebook. <br />On GitHub, the HTML representation is unable to render, please try loading this page with nbviewer.org.</b></div><div class=\"sk-container\" hidden><div class=\"sk-item\"><div class=\"sk-estimator sk-toggleable\"><input class=\"sk-toggleable__control sk-hidden--visually\" id=\"sk-estimator-id-1\" type=\"checkbox\" checked><label for=\"sk-estimator-id-1\" class=\"sk-toggleable__label sk-toggleable__label-arrow\">RandomForestRegressor</label><div class=\"sk-toggleable__content\"><pre>RandomForestRegressor(bootstrap=&#x27;True&#x27;, max_features=None, n_estimators=200)</pre></div></div></div></div></div>"
      ],
      "text/plain": [
       "RandomForestRegressor(bootstrap='True', max_features=None, n_estimators=200)"
      ]
     },
     "execution_count": 11,
     "metadata": {},
     "output_type": "execute_result"
    }
   ],
   "source": [
    "model.fit(x.array.reshape(-1,1),y)"
   ]
  },
  {
   "cell_type": "code",
   "execution_count": 13,
   "metadata": {},
   "outputs": [],
   "source": [
    "x_test = X_test['H3K36me3']"
   ]
  },
  {
   "cell_type": "code",
   "execution_count": 16,
   "metadata": {},
   "outputs": [],
   "source": [
    "y_pred = model.predict(x_test.array.reshape(-1,1))"
   ]
  },
  {
   "cell_type": "code",
   "execution_count": 17,
   "metadata": {},
   "outputs": [],
   "source": [
    "baseline = r2_score(y_test, y_pred)"
   ]
  },
  {
   "cell_type": "code",
   "execution_count": 18,
   "metadata": {},
   "outputs": [
    {
     "data": {
      "text/plain": [
       "-148255083.076096"
      ]
     },
     "execution_count": 18,
     "metadata": {},
     "output_type": "execute_result"
    }
   ],
   "source": [
    "baseline"
   ]
  },
  {
   "cell_type": "code",
   "execution_count": 36,
   "metadata": {},
   "outputs": [
    {
     "data": {
      "text/html": [
       "<style>#sk-container-id-4 {color: black;background-color: white;}#sk-container-id-4 pre{padding: 0;}#sk-container-id-4 div.sk-toggleable {background-color: white;}#sk-container-id-4 label.sk-toggleable__label {cursor: pointer;display: block;width: 100%;margin-bottom: 0;padding: 0.3em;box-sizing: border-box;text-align: center;}#sk-container-id-4 label.sk-toggleable__label-arrow:before {content: \"▸\";float: left;margin-right: 0.25em;color: #696969;}#sk-container-id-4 label.sk-toggleable__label-arrow:hover:before {color: black;}#sk-container-id-4 div.sk-estimator:hover label.sk-toggleable__label-arrow:before {color: black;}#sk-container-id-4 div.sk-toggleable__content {max-height: 0;max-width: 0;overflow: hidden;text-align: left;background-color: #f0f8ff;}#sk-container-id-4 div.sk-toggleable__content pre {margin: 0.2em;color: black;border-radius: 0.25em;background-color: #f0f8ff;}#sk-container-id-4 input.sk-toggleable__control:checked~div.sk-toggleable__content {max-height: 200px;max-width: 100%;overflow: auto;}#sk-container-id-4 input.sk-toggleable__control:checked~label.sk-toggleable__label-arrow:before {content: \"▾\";}#sk-container-id-4 div.sk-estimator input.sk-toggleable__control:checked~label.sk-toggleable__label {background-color: #d4ebff;}#sk-container-id-4 div.sk-label input.sk-toggleable__control:checked~label.sk-toggleable__label {background-color: #d4ebff;}#sk-container-id-4 input.sk-hidden--visually {border: 0;clip: rect(1px 1px 1px 1px);clip: rect(1px, 1px, 1px, 1px);height: 1px;margin: -1px;overflow: hidden;padding: 0;position: absolute;width: 1px;}#sk-container-id-4 div.sk-estimator {font-family: monospace;background-color: #f0f8ff;border: 1px dotted black;border-radius: 0.25em;box-sizing: border-box;margin-bottom: 0.5em;}#sk-container-id-4 div.sk-estimator:hover {background-color: #d4ebff;}#sk-container-id-4 div.sk-parallel-item::after {content: \"\";width: 100%;border-bottom: 1px solid gray;flex-grow: 1;}#sk-container-id-4 div.sk-label:hover label.sk-toggleable__label {background-color: #d4ebff;}#sk-container-id-4 div.sk-serial::before {content: \"\";position: absolute;border-left: 1px solid gray;box-sizing: border-box;top: 0;bottom: 0;left: 50%;z-index: 0;}#sk-container-id-4 div.sk-serial {display: flex;flex-direction: column;align-items: center;background-color: white;padding-right: 0.2em;padding-left: 0.2em;position: relative;}#sk-container-id-4 div.sk-item {position: relative;z-index: 1;}#sk-container-id-4 div.sk-parallel {display: flex;align-items: stretch;justify-content: center;background-color: white;position: relative;}#sk-container-id-4 div.sk-item::before, #sk-container-id-4 div.sk-parallel-item::before {content: \"\";position: absolute;border-left: 1px solid gray;box-sizing: border-box;top: 0;bottom: 0;left: 50%;z-index: -1;}#sk-container-id-4 div.sk-parallel-item {display: flex;flex-direction: column;z-index: 1;position: relative;background-color: white;}#sk-container-id-4 div.sk-parallel-item:first-child::after {align-self: flex-end;width: 50%;}#sk-container-id-4 div.sk-parallel-item:last-child::after {align-self: flex-start;width: 50%;}#sk-container-id-4 div.sk-parallel-item:only-child::after {width: 0;}#sk-container-id-4 div.sk-dashed-wrapped {border: 1px dashed gray;margin: 0 0.4em 0.5em 0.4em;box-sizing: border-box;padding-bottom: 0.4em;background-color: white;}#sk-container-id-4 div.sk-label label {font-family: monospace;font-weight: bold;display: inline-block;line-height: 1.2em;}#sk-container-id-4 div.sk-label-container {text-align: center;}#sk-container-id-4 div.sk-container {/* jupyter's `normalize.less` sets `[hidden] { display: none; }` but bootstrap.min.css set `[hidden] { display: none !important; }` so we also need the `!important` here to be able to override the default hidden behavior on the sphinx rendered scikit-learn.org. See: https://github.com/scikit-learn/scikit-learn/issues/21755 */display: inline-block !important;position: relative;}#sk-container-id-4 div.sk-text-repr-fallback {display: none;}</style><div id=\"sk-container-id-4\" class=\"sk-top-container\"><div class=\"sk-text-repr-fallback\"><pre>RandomForestRegressor(bootstrap=&#x27;True&#x27;, max_features=None, n_estimators=200)</pre><b>In a Jupyter environment, please rerun this cell to show the HTML representation or trust the notebook. <br />On GitHub, the HTML representation is unable to render, please try loading this page with nbviewer.org.</b></div><div class=\"sk-container\" hidden><div class=\"sk-item\"><div class=\"sk-estimator sk-toggleable\"><input class=\"sk-toggleable__control sk-hidden--visually\" id=\"sk-estimator-id-4\" type=\"checkbox\" checked><label for=\"sk-estimator-id-4\" class=\"sk-toggleable__label sk-toggleable__label-arrow\">RandomForestRegressor</label><div class=\"sk-toggleable__content\"><pre>RandomForestRegressor(bootstrap=&#x27;True&#x27;, max_features=None, n_estimators=200)</pre></div></div></div></div></div>"
      ],
      "text/plain": [
       "RandomForestRegressor(bootstrap='True', max_features=None, n_estimators=200)"
      ]
     },
     "execution_count": 36,
     "metadata": {},
     "output_type": "execute_result"
    }
   ],
   "source": [
    "y_train,X_train,y_test,X_test = train_test_split_mine_downsample(majority_fraction)\n",
    "y_train = X_train['lengths']\n",
    "X_train = X_train.drop(['lengths','H3K36me3'] , axis=1)\n",
    "y_test = X_test['lengths']\n",
    "X_test = X_test.drop(['lengths','H3K36me3'], axis=1)\n",
    "model.fit(X_train,y_train)"
   ]
  },
  {
   "cell_type": "code",
   "execution_count": 37,
   "metadata": {},
   "outputs": [
    {
     "name": "stdout",
     "output_type": "stream",
     "text": [
      "0.9082071545100181\n"
     ]
    }
   ],
   "source": [
    "y_pred = model.predict(X_test)\n",
    "baseline = r2_score(y_test, y_pred)\n",
    "print(baseline)"
   ]
  },
  {
   "cell_type": "code",
   "execution_count": 33,
   "metadata": {},
   "outputs": [],
   "source": [
    "X_test['H3K36me3'] = np.random.permutation(X_test['H3K36me3'])"
   ]
  },
  {
   "cell_type": "code",
   "execution_count": 35,
   "metadata": {},
   "outputs": [
    {
     "name": "stdout",
     "output_type": "stream",
     "text": [
      "0.1245959806514968\n"
     ]
    }
   ],
   "source": [
    "y_pred = model.predict(X_test)\n",
    "permuted = r2_score(y_test, y_pred)\n",
    "print(permuted)"
   ]
  },
  {
   "cell_type": "code",
   "execution_count": 40,
   "metadata": {},
   "outputs": [
    {
     "name": "stdout",
     "output_type": "stream",
     "text": [
      "any_te\n",
      "0.9008476699496493\n",
      "gene_nearby\n",
      "0.8678282488640383\n",
      "gene_gc\n",
      "0.9012482578323857\n",
      "flanking_1kb_gc\n",
      "0.8275032566860848\n",
      "tm\n",
      "0.8796745771665061\n",
      "signalp\n",
      "0.8522849191625963\n",
      "effectorp\n",
      "0.8968231801853757\n",
      "H3K27ac\n",
      "0.7195442336827143\n",
      "H3K27me3\n",
      "0.349783332131941\n",
      "cm_expression\n",
      "0.6574240457967937\n",
      "ip_expression\n",
      "0.398206710469323\n",
      "eccdna_cov\n",
      "0.7043695125664327\n",
      "methylation\n",
      "0.5797379340471323\n",
      "go\n",
      "0.7428258145433568\n",
      "pfam\n",
      "0.5623219076669612\n"
     ]
    }
   ],
   "source": [
    "for perm_feature in X_test:\n",
    "    print(perm_feature)\n",
    "    save = X_test[perm_feature].copy()\n",
    "    X_test[perm_feature] = np.random.permutation(X_test[perm_feature])\n",
    "    y_pred = model.predict(X_test)\n",
    "    permuted = r2_score(y_test, y_pred)\n",
    "    print(permuted)\n",
    "    X_test[perm_feature] = save"
   ]
  },
  {
   "cell_type": "code",
   "execution_count": null,
   "metadata": {},
   "outputs": [],
   "source": [
    "for perm_feature in X_train.columns:\n",
    "    if perm_feature == dep_feature:\n",
    "        row.append('x')\n",
    "        continue\n",
    "    save = X_dep_test[perm_feature].copy()\n",
    "    X_dep_test[perm_feature] = np.random.permutation(X_dep_test[perm_feature])\n",
    "    y_dep_pred_permuted = model_dep.predict(X_dep_test)\n",
    "    if dep_feature in boolcols:\n",
    "        permuted_score = f1_score(y_dep_test, y_dep_pred_permuted)\n",
    "    else:\n",
    "        permuted_score = r2_score(y_dep_test, y_dep_pred_permuted)\n",
    "    diff = baseline-permuted_score\n",
    "    row.append(diff)\n",
    "    X_dep_test[perm_feature] = save"
   ]
  }
 ],
 "metadata": {
  "kernelspec": {
   "display_name": "Python 3.10.5 ('imbalanced_learn')",
   "language": "python",
   "name": "python3"
  },
  "language_info": {
   "codemirror_mode": {
    "name": "ipython",
    "version": 3
   },
   "file_extension": ".py",
   "mimetype": "text/x-python",
   "name": "python",
   "nbconvert_exporter": "python",
   "pygments_lexer": "ipython3",
   "version": "3.10.5"
  },
  "orig_nbformat": 4,
  "vscode": {
   "interpreter": {
    "hash": "c2315821898a4f1de250b11175021d0bad67aa42c758ebaa32223c2f00dcd7fb"
   }
  }
 },
 "nbformat": 4,
 "nbformat_minor": 2
}
