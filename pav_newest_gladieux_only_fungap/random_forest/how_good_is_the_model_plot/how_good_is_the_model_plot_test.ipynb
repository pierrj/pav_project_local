{
 "cells": [
  {
   "cell_type": "code",
   "execution_count": 24,
   "metadata": {},
   "outputs": [],
   "source": [
    "import numpy as np\n",
    "import pandas as pd\n",
    "from sklearn.ensemble import RandomForestClassifier\n",
    "from imblearn.over_sampling import SMOTE\n",
    "from imblearn.ensemble import BalancedRandomForestClassifier\n",
    "from sklearn.metrics import average_precision_score\n",
    "from sklearn.metrics import roc_auc_score\n",
    "import sys\n",
    "from pandas.api.types import is_numeric_dtype\n",
    "from pandas.api.types import is_bool_dtype\n",
    "from sklearn.ensemble import RandomForestRegressor\n",
    "from sklearn.base import clone\n",
    "from rfpimp import *\n",
    "from sklearn.metrics import precision_recall_curve\n",
    "from sklearn.metrics import plot_confusion_matrix\n"
   ]
  },
  {
   "cell_type": "code",
   "execution_count": 2,
   "metadata": {},
   "outputs": [
    {
     "ename": "ValueError",
     "evalue": "could not convert string to float: '--stdin=9008'",
     "output_type": "error",
     "traceback": [
      "\u001b[1;31m---------------------------------------------------------------------------\u001b[0m",
      "\u001b[1;31mValueError\u001b[0m                                Traceback (most recent call last)",
      "\u001b[1;32mUntitled-1.ipynb Cell 2\u001b[0m in \u001b[0;36m<cell line: 2>\u001b[1;34m()\u001b[0m\n\u001b[0;32m      <a href='vscode-notebook-cell:Untitled-1.ipynb?jupyter-notebook#W1sdW50aXRsZWQ%3D?line=0'>1</a>\u001b[0m input_df \u001b[39m=\u001b[39m sys\u001b[39m.\u001b[39margv[\u001b[39m1\u001b[39m]\n\u001b[1;32m----> <a href='vscode-notebook-cell:Untitled-1.ipynb?jupyter-notebook#W1sdW50aXRsZWQ%3D?line=1'>2</a>\u001b[0m majority_fraction \u001b[39m=\u001b[39m \u001b[39mfloat\u001b[39;49m(sys\u001b[39m.\u001b[39;49margv[\u001b[39m2\u001b[39;49m])\n\u001b[0;32m      <a href='vscode-notebook-cell:Untitled-1.ipynb?jupyter-notebook#W1sdW50aXRsZWQ%3D?line=2'>3</a>\u001b[0m approach \u001b[39m=\u001b[39m sys\u001b[39m.\u001b[39margv[\u001b[39m3\u001b[39m]\n\u001b[0;32m      <a href='vscode-notebook-cell:Untitled-1.ipynb?jupyter-notebook#W1sdW50aXRsZWQ%3D?line=3'>4</a>\u001b[0m n_estimators \u001b[39m=\u001b[39m \u001b[39mint\u001b[39m(sys\u001b[39m.\u001b[39margv[\u001b[39m4\u001b[39m])\n",
      "\u001b[1;31mValueError\u001b[0m: could not convert string to float: '--stdin=9008'"
     ]
    }
   ],
   "source": [
    "input_df = sys.argv[1]\n",
    "majority_fraction = float(sys.argv[2])\n",
    "approach = sys.argv[3]\n",
    "n_estimators = int(sys.argv[4])\n",
    "min_samples_split = int(sys.argv[5])\n",
    "min_samples_leaf = int(sys.argv[6])\n",
    "max_features = sys.argv[7]\n",
    "max_depth = sys.argv[8]\n",
    "bootstrap = eval(sys.argv[9])"
   ]
  },
  {
   "cell_type": "code",
   "execution_count": 2,
   "metadata": {},
   "outputs": [],
   "source": [
    "input_df = '../gene_info.genes_tes_gc.lengths_effectors.guy11_histone_expression.go_pfam_eccdnas.txt'\n",
    "majority_fraction =  0.5 ## just to get trues and falses balanced well\n",
    "approach = 'RF'\n",
    "n_estimators = 250\n",
    "min_samples_split =  2\n",
    "min_samples_leaf = 1\n",
    "max_features = 'sqrt'\n",
    "max_depth = '100'\n",
    "bootstrap = 'True'"
   ]
  },
  {
   "cell_type": "code",
   "execution_count": 3,
   "metadata": {},
   "outputs": [],
   "source": [
    "def none_or_str(value):\n",
    "    if value == 'None':\n",
    "        return None\n",
    "    return value\n",
    "\n",
    "max_features = none_or_str(max_features)\n",
    "\n",
    "\n",
    "def none_or_int(value):\n",
    "    if value == 'None':\n",
    "        return None\n",
    "    return int(value)\n",
    "\n",
    "max_depth = none_or_int(max_depth)"
   ]
  },
  {
   "cell_type": "code",
   "execution_count": 4,
   "metadata": {},
   "outputs": [],
   "source": [
    "args_dict = {\n",
    "    \"n_estimators\": n_estimators,\n",
    "    \"min_samples_split\": min_samples_split,\n",
    "    \"min_samples_leaf\": min_samples_leaf,\n",
    "    \"max_features\": max_features,\n",
    "    \"max_depth\": max_depth,\n",
    "    \"bootstrap\": bootstrap\n",
    "}"
   ]
  },
  {
   "cell_type": "code",
   "execution_count": 5,
   "metadata": {},
   "outputs": [],
   "source": [
    "def reports(model, X_test, y_test):\n",
    "    y_pred = model.predict(X_test)\n",
    "    TP = len(y_pred[(y_pred == 1) & (y_test == 1)])\n",
    "    FN = len(y_pred[(y_pred == 0) & (y_test == 1)])\n",
    "    FP = len(y_pred[(y_pred == 1) & (y_test == 0)])\n",
    "    # sensitivity, how sensitive is the test? TP/TP+FN aka recall\n",
    "    recall = TP/(TP+FN)\n",
    "    ## PPV, how powerful is a positive? TP/TP+FP aka precision\n",
    "    precision = TP/(TP+FP)\n",
    "    ap = average_precision_score(y_test, model.predict_proba(X_test)[:,1])\n",
    "    auc = roc_auc_score(y_test, model.predict_proba(X_test)[:,1])\n",
    "    return([recall, precision, ap, auc])\n",
    "\n",
    "def train_test_split_mine_downsample(majority_fraction):\n",
    "    df_genes = pd.read_csv(input_df)\n",
    "    df_genes = df_genes[df_genes['lineage']!=4]\n",
    "    ## pick 4 genomes per lineage as testing data\n",
    "    genome_test_subset = []\n",
    "    for lineage in np.unique(df_genes.lineage):\n",
    "        for genome in np.random.choice(df_genes[df_genes.lineage == lineage].genome, size=4,replace=False):\n",
    "            genome_test_subset.append(genome)\n",
    "    df_genes_test_subset = df_genes[df_genes.genome.isin(genome_test_subset)]\n",
    "    df_genes = df_genes[~df_genes.genome.isin(genome_test_subset)]\n",
    "    if majority_fraction != 1.0:\n",
    "        pav_true_subset = df_genes[df_genes['lineage_pav']==True].id\n",
    "        pav_false_subset_downsampled = np.random.choice(df_genes[df_genes['lineage_pav'] == False].id, size=int(len(df_genes.index)*majority_fraction),replace=False)\n",
    "        df_genes_downsampled = df_genes[(df_genes.id.isin(pav_false_subset_downsampled)) | (df_genes.id.isin(pav_true_subset))]\n",
    "    else:\n",
    "        df_genes_downsampled = df_genes\n",
    "    # drop columns\n",
    "    df_genes_downsampled = df_genes_downsampled.drop(['id', 'scaffold', 'start', 'end', 'orientation', 'orthogroups', 'enough_space_te', 'enough_space_gene',\n",
    "                            'genome', 'lineage', 'lineage_conserved', 'proportion'], axis=1)\n",
    "    df_genes_test_subset = df_genes_test_subset.drop(['id', 'scaffold', 'start', 'end', 'orientation', 'orthogroups', 'enough_space_te', 'enough_space_gene',\n",
    "                            'genome', 'lineage', 'lineage_conserved', 'proportion'], axis=1)\n",
    "    y_train = df_genes_downsampled['lineage_pav']\n",
    "    X_train = df_genes_downsampled.drop('lineage_pav', axis=1)\n",
    "    y_test = df_genes_test_subset['lineage_pav']\n",
    "    X_test = df_genes_test_subset.drop('lineage_pav', axis=1)\n",
    "    return(y_train,X_train,y_test,X_test)"
   ]
  },
  {
   "cell_type": "code",
   "execution_count": 6,
   "metadata": {},
   "outputs": [],
   "source": [
    "y_train,X_train,y_test,X_test = train_test_split_mine_downsample(majority_fraction)"
   ]
  },
  {
   "cell_type": "code",
   "execution_count": 7,
   "metadata": {},
   "outputs": [],
   "source": [
    "if approach == \"SMOTE\":\n",
    "    oversample = SMOTE()\n",
    "    over_X_train, over_y_train = oversample.fit_resample(X_train, y_train)\n",
    "    X_train = over_X_train\n",
    "    y_train = over_y_train\n",
    "if approach == \"BRFC\":\n",
    "    model = BalancedRandomForestClassifier(**args_dict)\n",
    "elif approach == \"RF_balanced\":\n",
    "    model = RandomForestClassifier(class_weight=\"balanced\", **args_dict)\n",
    "elif approach == \"RF_balanced_subsample\":\n",
    "    model = RandomForestClassifier(class_weight=\"balanced_subsample\", **args_dict)\n",
    "elif approach == \"RF\":\n",
    "    model = RandomForestClassifier(**args_dict)\n",
    "elif approach == \"SMOTE\":\n",
    "    model = RandomForestClassifier(**args_dict)"
   ]
  },
  {
   "cell_type": "code",
   "execution_count": 8,
   "metadata": {},
   "outputs": [],
   "source": [
    "model.fit(X_train, y_train)\n",
    "results = reports(model, X_test, y_test)"
   ]
  },
  {
   "cell_type": "code",
   "execution_count": 10,
   "metadata": {},
   "outputs": [],
   "source": [
    "y_score = model.predict_proba(X_test)[:, 1]"
   ]
  },
  {
   "cell_type": "code",
   "execution_count": 12,
   "metadata": {},
   "outputs": [],
   "source": [
    "precision, recall, thresholds = precision_recall_curve(y_test, y_score)"
   ]
  },
  {
   "cell_type": "code",
   "execution_count": 23,
   "metadata": {},
   "outputs": [
    {
     "data": {
      "image/png": "[encoded data removed]",
      "text/plain": [
       "<Figure size 432x288 with 1 Axes>"
      ]
     },
     "metadata": {
      "needs_background": "light"
     },
     "output_type": "display_data"
    }
   ],
   "source": [
    "#create precision recall curve\n",
    "fig, ax = plt.subplots()\n",
    "ax.plot(recall, precision, color='purple', label = 'model')\n",
    "ax.axhline(y=0.05, label='no skill')\n",
    "\n",
    "#add axis labels to plot\n",
    "ax.set_title('Precision-Recall Curve')\n",
    "ax.set_ylabel('Precision')\n",
    "ax.set_xlabel('Recall')\n",
    "\n",
    "#display plot\n",
    "plt.legend(loc=\"best\")\n",
    "plt.savefig('precision-recall_curve.png')\n",
    "plt.show()\n"
   ]
  },
  {
   "cell_type": "code",
   "execution_count": 27,
   "metadata": {},
   "outputs": [
    {
     "name": "stderr",
     "output_type": "stream",
     "text": [
      "c:\\Users\\pierr\\.conda\\envs\\imbalanced_learn\\lib\\site-packages\\sklearn\\utils\\deprecation.py:87: FutureWarning: Function plot_confusion_matrix is deprecated; Function `plot_confusion_matrix` is deprecated in 1.0 and will be removed in 1.2. Use one of the class methods: ConfusionMatrixDisplay.from_predictions or ConfusionMatrixDisplay.from_estimator.\n",
      "  warnings.warn(msg, category=FutureWarning)\n"
     ]
    },
    {
     "data": {
      "image/png": "[encoded data removed]",
      "text/plain": [
       "<Figure size 432x288 with 2 Axes>"
      ]
     },
     "metadata": {
      "needs_background": "light"
     },
     "output_type": "display_data"
    }
   ],
   "source": [
    "fig = plot_confusion_matrix(model, X_test, y_test, display_labels=['Is not PAV Gene', 'Is PAV gene'], cmap='Greens')\n",
    "plt.title('Confusion Matrix')\n",
    "plt.savefig('confusion_matrix.png')\n",
    "plt.show()"
   ]
  }
 ],
 "metadata": {
  "kernelspec": {
   "display_name": "Python 3.10.5 ('imbalanced_learn')",
   "language": "python",
   "name": "python3"
  },
  "language_info": {
   "codemirror_mode": {
    "name": "ipython",
    "version": 3
   },
   "file_extension": ".py",
   "mimetype": "text/x-python",
   "name": "python",
   "nbconvert_exporter": "python",
   "pygments_lexer": "ipython3",
   "version": "3.10.5"
  },
  "orig_nbformat": 4,
  "vscode": {
   "interpreter": {
    "hash": "c2315821898a4f1de250b11175021d0bad67aa42c758ebaa32223c2f00dcd7fb"
   }
  }
 },
 "nbformat": 4,
 "nbformat_minor": 2
}
