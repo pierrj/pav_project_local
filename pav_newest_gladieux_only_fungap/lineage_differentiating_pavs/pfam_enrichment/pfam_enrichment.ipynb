{
 "cells": [
  {
   "cell_type": "code",
   "execution_count": 1,
   "metadata": {},
   "outputs": [],
   "source": [
    "import pandas as pd\n",
    "import re as regex\n",
    "\n",
    "from collections import Counter\n",
    "import csv\n",
    "import matplotlib.pyplot as plt\n",
    "import scipy.stats as stats"
   ]
  },
  {
   "cell_type": "code",
   "execution_count": 2,
   "metadata": {},
   "outputs": [],
   "source": [
    "## import Orthogroups without 70-15\n",
    "og_no_70_15 = '../../pipeline_methods/Orthogroups.tsv'"
   ]
  },
  {
   "cell_type": "code",
   "execution_count": 3,
   "metadata": {},
   "outputs": [],
   "source": [
    "og_no_70_15_df = pd.read_csv(og_no_70_15, dtype='string', sep='\\t', index_col = 0)"
   ]
  },
  {
   "cell_type": "code",
   "execution_count": 4,
   "metadata": {},
   "outputs": [],
   "source": [
    "# used to get the og a gene belongs to\n",
    "\n",
    "df_lol = og_no_70_15_df.values.tolist()\n",
    "\n",
    "og_dict_no_70_15 = {}\n",
    "\n",
    "for i, row in enumerate(df_lol):\n",
    "    og = og_no_70_15_df.index[i]\n",
    "    for cell in row:\n",
    "        if not pd.isnull(cell):\n",
    "            for protein in cell.split(', '):\n",
    "                og_dict_no_70_15[protein] = og"
   ]
  },
  {
   "cell_type": "code",
   "execution_count": 5,
   "metadata": {},
   "outputs": [],
   "source": [
    "# use to get the group of genes assigned to an og\n",
    "\n",
    "genes_per_og_no_70_15 = {}\n",
    "\n",
    "for gene in og_dict_no_70_15:\n",
    "    og = og_dict_no_70_15[gene]\n",
    "    if og not in genes_per_og_no_70_15:\n",
    "        genes_per_og_no_70_15[og] = []\n",
    "    genes_per_og_no_70_15[og].append(gene)"
   ]
  },
  {
   "cell_type": "code",
   "execution_count": 6,
   "metadata": {},
   "outputs": [],
   "source": [
    "genomes = [\n",
    "'13FM-16-1',\n",
    "'13FM-24-1',\n",
    "'13FM-3-2',\n",
    "'13FM-5-1',\n",
    "'AG0004',\n",
    "'AV1-1-1',\n",
    "'BJ-90-611',\n",
    "'BJ08-8',\n",
    "'BN0123',\n",
    "'BN0202',\n",
    "'BN0252',\n",
    "'CD0065',\n",
    "'CD0142',\n",
    "'CH0043',\n",
    "'CH0072',\n",
    "'CH0452',\n",
    "'CH0461',\n",
    "'CH1103',\n",
    "'CH1164',\n",
    "'CM0028',\n",
    "'DB11-621',\n",
    "'FJ0204804',\n",
    "'FJ11SH-527-1',\n",
    "'FJ12JN-084-3',\n",
    "'FJ13SH05-2',\n",
    "'FJ2000-62A',\n",
    "'FJ2000-69A',\n",
    "'FJ2001-112B',\n",
    "'FJ2003-001A1',\n",
    "'FJ2005113B',\n",
    "'FJ2006-60A3',\n",
    "'FJ72ZC7-77',\n",
    "'FJ78-JJ',\n",
    "'FJ81-JY',\n",
    "'FJ81-MH',\n",
    "'FJ81-SW',\n",
    "'FJ81-ZP',\n",
    "'FJ81221ZB11-14',\n",
    "'FJ86-CT',\n",
    "'FJ86061ZE3-39',\n",
    "'FJ95054B',\n",
    "'FJ95085AZB13-116',\n",
    "'FJ98099',\n",
    "'FJ99138',\n",
    "'FJSH0703',\n",
    "'GD06-53',\n",
    "'GD08-2025',\n",
    "'GY0040',\n",
    "'HB-14',\n",
    "'HB-LTH18',\n",
    "'HN-0812-3',\n",
    "'HN-158',\n",
    "'HN10-1604',\n",
    "'IA1',\n",
    "'IB33',\n",
    "'IB49',\n",
    "'IC17',\n",
    "'IE1K',\n",
    "'IN0017',\n",
    "'IN0054',\n",
    "'IN0059',\n",
    "'IN0114',\n",
    "'IN0115',\n",
    "'IN0116',\n",
    "'IT0010',\n",
    "'JS08-611',\n",
    "'JS09-138',\n",
    "'JX-09Z116-1',\n",
    "'JX10-102',\n",
    "'JX11-141',\n",
    "'KA1-3-1',\n",
    "'KA2-1-1',\n",
    "'ML0060',\n",
    "'ML0062',\n",
    "'ML33',\n",
    "'NG0012',\n",
    "'NG0054',\n",
    "'Nich-2-3-2',\n",
    "'Nich-2-7-4',\n",
    "'SC-10-120-65-2',\n",
    "'SC-10-25-44-1',\n",
    "'TG0004',\n",
    "'TG0032',\n",
    "'TN0001',\n",
    "'TN0002',\n",
    "'TN0050',\n",
    "'TN0057',\n",
    "'TN0090',\n",
    "'TR0025',\n",
    "'TW-1-1-1-B-1',\n",
    "'TW-12CY-TB1-2',\n",
    "'TW-12HL-DF1-2',\n",
    "'TW-12HL-YL2-1',\n",
    "'TW-12TD-RH1-1',\n",
    "'TW-12TN-HB2-2',\n",
    "'TW-12YL-DL3-2',\n",
    "'TW-12YL-DP1-1',\n",
    "'TW-12YL-TT4-1',\n",
    "'TW-2-7-2-A-1',\n",
    "'TW-6-2-2-B-1',\n",
    "'TW-6-43-1',\n",
    "'TW-CYBP1-3',\n",
    "'TW-PT1-1',\n",
    "'TW-PT3-1',\n",
    "'TW-PT6-1',\n",
    "'TW-TN4-2',\n",
    "'US0041',\n",
    "'VT0027',\n",
    "'VT0030',\n",
    "'WD-3-1',\n",
    "'YN07205e',\n",
    "'YN072310',\n",
    "'YN072311',\n",
    "'YN072313',\n",
    "'YN08181e',\n",
    "'YN08182c',\n",
    "'YN126311',\n",
    "'YN126441',\n",
    "'YN8773-19',\n",
    "'YN8773R-27',\n",
    "'ZJ00-10',\n",
    "'ZJ08-41',\n",
    "'ZJ2011-7-1',\n",
    "]"
   ]
  },
  {
   "cell_type": "code",
   "execution_count": 7,
   "metadata": {},
   "outputs": [],
   "source": [
    "gene_count_per_og = {}\n",
    "\n",
    "for og in genes_per_og_no_70_15:\n",
    "    gene_count_per_og[og] = len(genes_per_og_no_70_15[og])"
   ]
  },
  {
   "cell_type": "code",
   "execution_count": 8,
   "metadata": {},
   "outputs": [],
   "source": [
    "def regex_partition(content, separator):\n",
    "    separator_match = regex.search(separator, content)\n",
    "    if not separator_match:\n",
    "        return content, content, content\n",
    "\n",
    "    matched_separator = separator_match.group(0)\n",
    "    parts = regex.split(matched_separator, content, 1)\n",
    "\n",
    "    return parts[0], matched_separator, parts[1]\n",
    "\n",
    "def trim_domain_names(input_list):\n",
    "    regexp = '_[0-9]'\n",
    "    trimmed_domains = []\n",
    "    for i in range(len(input_list)):\n",
    "        if len(regex_partition(input_list[i], regexp)[0]) > 2:\n",
    "            trimmed_domains.append(regex_partition(input_list[i], regexp)[0])\n",
    "        else:\n",
    "            trimmed_domains.append(input_list[i])\n",
    "    regexp = '_C|_N'\n",
    "    trimmed_domains_noCN = []\n",
    "    for i in range(len(trimmed_domains)):\n",
    "        trimmed_domains_noCN.append(regex_partition(trimmed_domains[i], regexp)[0])\n",
    "        if len(regex_partition(trimmed_domains[i], regexp)[0]) > 2:\n",
    "            trimmed_domains_noCN.append(regex_partition(trimmed_domains[i], regexp)[0])\n",
    "        else:\n",
    "            trimmed_domains_noCN.append(trimmed_domains[i])\n",
    "    regexp = 'Peptidase'\n",
    "    trimmed_domains_noCN_peptidasegrouped = []\n",
    "    for i in range(len(trimmed_domains_noCN)):\n",
    "        trimmed_domains_noCN_peptidasegrouped.append(regex_partition(trimmed_domains_noCN[i], regexp)[1])\n",
    "    trimmed_domains_noCN_peptidasegrouped_cased = []\n",
    "    for i in range(len(trimmed_domains_noCN_peptidasegrouped)):\n",
    "        trimmed_domains_noCN_peptidasegrouped_cased.append(trimmed_domains_noCN_peptidasegrouped[i].lower())\n",
    "    return trimmed_domains_noCN_peptidasegrouped_cased"
   ]
  },
  {
   "cell_type": "code",
   "execution_count": 9,
   "metadata": {},
   "outputs": [],
   "source": [
    "domain_counts_per_og = {}\n",
    "\n",
    "for genome in genomes:\n",
    "    kparse_out = \"all_pfam_scan/\"+ genome + \".pfamscan.kparse.out\"\n",
    "    with open(kparse_out, newline = '') as file:\n",
    "        file_reader = csv.reader(file, delimiter = '\\t')\n",
    "        for row in file_reader:\n",
    "            gene = row[0]\n",
    "            if gene in og_dict_no_70_15: # some genes dont have ogs\n",
    "                og = og_dict_no_70_15[gene]\n",
    "            if og not in domain_counts_per_og:\n",
    "                domain_counts_per_og[og] = {}\n",
    "            domains_trimmed = trim_domain_names(row[1].split(\"~\"))\n",
    "            domains = list(set(domains_trimmed))\n",
    "            for domain in domains:\n",
    "                if domain in domain_counts_per_og[og]:\n",
    "                    domain_counts_per_og[og][domain] += 1\n",
    "                else:\n",
    "                    domain_counts_per_og[og][domain] = 1"
   ]
  },
  {
   "cell_type": "code",
   "execution_count": 10,
   "metadata": {},
   "outputs": [],
   "source": [
    "domains_per_og = {}\n",
    "\n",
    "for og in domain_counts_per_og:\n",
    "    domains_per_og[og] = []\n",
    "    gene_count = gene_count_per_og[og]\n",
    "    for domain in domain_counts_per_og[og]:\n",
    "        domain_count = domain_counts_per_og[og][domain]\n",
    "        if domain_count >= gene_count*0.5:\n",
    "            domains_per_og[og].append(domain)\n",
    "\n",
    "## some of them will be empty now\n",
    "for og in domain_counts_per_og:\n",
    "    if domains_per_og[og] == []:\n",
    "        del domains_per_og[og]"
   ]
  },
  {
   "cell_type": "code",
   "execution_count": 11,
   "metadata": {},
   "outputs": [],
   "source": [
    "for og in gene_count_per_og:\n",
    "    if og not in domains_per_og:\n",
    "        domains_per_og[og] = ['unannotated']"
   ]
  },
  {
   "cell_type": "code",
   "execution_count": 24,
   "metadata": {},
   "outputs": [],
   "source": [
    "ogs_per_domain = {}\n",
    "\n",
    "for og in domains_per_og:\n",
    "    for domain in domains_per_og[og]:\n",
    "        if domain not in ogs_per_domain:\n",
    "            ogs_per_domain[domain] = 1\n",
    "        else:\n",
    "            ogs_per_domain[domain] += 1"
   ]
  },
  {
   "cell_type": "code",
   "execution_count": 26,
   "metadata": {},
   "outputs": [],
   "source": [
    "identified_ogs_per_domain = {}\n",
    "\n",
    "for og in domains_per_og:\n",
    "    for domain in domains_per_og[og]:\n",
    "        if domain not in identified_ogs_per_domain:\n",
    "            identified_ogs_per_domain[domain] = [og]\n",
    "        else:\n",
    "            identified_ogs_per_domain[domain].append(og)"
   ]
  },
  {
   "cell_type": "code",
   "execution_count": 13,
   "metadata": {},
   "outputs": [],
   "source": [
    "lineage_differentiating_ogs = []\n",
    "\n",
    "with open('../pca_heat_map_phylogeny/lineage_differentiating_pavs.txt') as file:\n",
    "    file_reader = csv.reader(file, delimiter = '\\t')\n",
    "    for row in file_reader:\n",
    "        lineage_differentiating_ogs.append(row[0])"
   ]
  },
  {
   "cell_type": "code",
   "execution_count": 14,
   "metadata": {},
   "outputs": [],
   "source": [
    "ratio = len(lineage_differentiating_ogs)/len(domains_per_og)"
   ]
  },
  {
   "cell_type": "code",
   "execution_count": 15,
   "metadata": {},
   "outputs": [],
   "source": [
    "ogs_per_domain_expected = {}\n",
    "\n",
    "for domain in ogs_per_domain:\n",
    "    ogs_per_domain_expected[domain] = round(ogs_per_domain[domain] * ratio, 2)"
   ]
  },
  {
   "cell_type": "code",
   "execution_count": 16,
   "metadata": {},
   "outputs": [],
   "source": [
    "ogs_per_domain_observed = {}\n",
    "\n",
    "for og in lineage_differentiating_ogs:\n",
    "    domains = domains_per_og[og]\n",
    "    for domain in domains:\n",
    "        if domain not in ogs_per_domain_observed:\n",
    "            ogs_per_domain_observed[domain] = 1\n",
    "        else:\n",
    "            ogs_per_domain_observed[domain] += 1\n",
    "\n",
    "for domain in ogs_per_domain:\n",
    "    if domain not in ogs_per_domain_observed:\n",
    "        ogs_per_domain_observed[domain] = 0"
   ]
  },
  {
   "cell_type": "code",
   "execution_count": 17,
   "metadata": {},
   "outputs": [],
   "source": [
    "ogs_per_domain_notobserved = {}\n",
    "\n",
    "for og in domains_per_og:\n",
    "    if og not in lineage_differentiating_ogs:\n",
    "        domains = domains_per_og[og]\n",
    "        for domain in domains:\n",
    "            if domain not in ogs_per_domain_notobserved:\n",
    "                ogs_per_domain_notobserved[domain] = 1\n",
    "            else:\n",
    "                ogs_per_domain_notobserved[domain] += 1\n",
    "\n",
    "for domain in ogs_per_domain:\n",
    "    if domain not in ogs_per_domain_notobserved:\n",
    "        ogs_per_domain_notobserved[domain] = 0"
   ]
  },
  {
   "cell_type": "code",
   "execution_count": null,
   "metadata": {},
   "outputs": [],
   "source": []
  },
  {
   "cell_type": "code",
   "execution_count": 18,
   "metadata": {},
   "outputs": [],
   "source": [
    "results_lol = []\n",
    "\n",
    "for domain in ogs_per_domain_expected:\n",
    "    observed = len(lineage_differentiating_ogs)\n",
    "    not_observed = len(domains_per_og)-observed\n",
    "    annotated = ogs_per_domain[domain]\n",
    "    unannotated = len(domains_per_og) - annotated\n",
    "    observed_annotated = ogs_per_domain_observed[domain]\n",
    "    observed_unannotated = observed-observed_annotated\n",
    "    notobserved_annotated = ogs_per_domain_notobserved[domain] \n",
    "    notobserved_unannotated = not_observed - notobserved_annotated\n",
    "    table = [\n",
    "        [observed_annotated, observed_unannotated],\n",
    "        [notobserved_annotated, notobserved_unannotated]\n",
    "    ]\n",
    "    if (observed_annotated + observed_unannotated != observed or notobserved_annotated + notobserved_unannotated != not_observed or\n",
    "        observed_annotated + notobserved_annotated != annotated or observed_unannotated + notobserved_unannotated != unannotated):\n",
    "        print(observed)\n",
    "        print(not_observed)\n",
    "        print(annotated)\n",
    "        print(unannotated)\n",
    "        print(table[0])\n",
    "        print(table[1])\n",
    "        raise ValueError(\"sums arent right\")\n",
    "    p_value_fisher = stats.fisher_exact(table)[1]\n",
    "    results_lol.append([domain, ogs_per_domain[domain], ogs_per_domain_expected[domain], ogs_per_domain_observed[domain], ogs_per_domain_observed[domain]/ogs_per_domain_expected[domain],p_value_fisher])"
   ]
  },
  {
   "cell_type": "code",
   "execution_count": 32,
   "metadata": {},
   "outputs": [],
   "source": [
    "df = pd.DataFrame(results_lol, columns = ['domain', 'annotated','expected','observed', 'ratio','p_value_fisher'])"
   ]
  },
  {
   "cell_type": "code",
   "execution_count": 33,
   "metadata": {},
   "outputs": [],
   "source": [
    "df = df[df.observed >= 3]"
   ]
  },
  {
   "cell_type": "code",
   "execution_count": 34,
   "metadata": {},
   "outputs": [],
   "source": [
    "df = df[df.p_value_fisher <= 0.05]"
   ]
  },
  {
   "cell_type": "code",
   "execution_count": 35,
   "metadata": {},
   "outputs": [
    {
     "data": {
      "text/html": [
       "<div>\n",
       "<style scoped>\n",
       "    .dataframe tbody tr th:only-of-type {\n",
       "        vertical-align: middle;\n",
       "    }\n",
       "\n",
       "    .dataframe tbody tr th {\n",
       "        vertical-align: top;\n",
       "    }\n",
       "\n",
       "    .dataframe thead th {\n",
       "        text-align: right;\n",
       "    }\n",
       "</style>\n",
       "<table border=\"1\" class=\"dataframe\">\n",
       "  <thead>\n",
       "    <tr style=\"text-align: right;\">\n",
       "      <th></th>\n",
       "      <th>domain</th>\n",
       "      <th>annotated</th>\n",
       "      <th>expected</th>\n",
       "      <th>observed</th>\n",
       "      <th>ratio</th>\n",
       "      <th>p_value_fisher</th>\n",
       "    </tr>\n",
       "  </thead>\n",
       "  <tbody>\n",
       "    <tr>\n",
       "      <th>5</th>\n",
       "      <td>kr</td>\n",
       "      <td>32</td>\n",
       "      <td>1.36</td>\n",
       "      <td>4</td>\n",
       "      <td>2.941176</td>\n",
       "      <td>4.519184e-02</td>\n",
       "    </tr>\n",
       "    <tr>\n",
       "      <th>6</th>\n",
       "      <td>ps-dh</td>\n",
       "      <td>32</td>\n",
       "      <td>1.36</td>\n",
       "      <td>4</td>\n",
       "      <td>2.941176</td>\n",
       "      <td>4.519184e-02</td>\n",
       "    </tr>\n",
       "    <tr>\n",
       "      <th>7</th>\n",
       "      <td>ketoacyl-synt</td>\n",
       "      <td>37</td>\n",
       "      <td>1.57</td>\n",
       "      <td>5</td>\n",
       "      <td>3.184713</td>\n",
       "      <td>1.925612e-02</td>\n",
       "    </tr>\n",
       "    <tr>\n",
       "      <th>11</th>\n",
       "      <td>acyl_transf</td>\n",
       "      <td>39</td>\n",
       "      <td>1.66</td>\n",
       "      <td>6</td>\n",
       "      <td>3.614458</td>\n",
       "      <td>5.651217e-03</td>\n",
       "    </tr>\n",
       "    <tr>\n",
       "      <th>115</th>\n",
       "      <td>polyprenyl_synt</td>\n",
       "      <td>13</td>\n",
       "      <td>0.55</td>\n",
       "      <td>4</td>\n",
       "      <td>7.272727</td>\n",
       "      <td>1.694794e-03</td>\n",
       "    </tr>\n",
       "    <tr>\n",
       "      <th>193</th>\n",
       "      <td>het</td>\n",
       "      <td>43</td>\n",
       "      <td>1.83</td>\n",
       "      <td>5</td>\n",
       "      <td>2.732240</td>\n",
       "      <td>3.460663e-02</td>\n",
       "    </tr>\n",
       "    <tr>\n",
       "      <th>622</th>\n",
       "      <td>tyrosinase</td>\n",
       "      <td>17</td>\n",
       "      <td>0.72</td>\n",
       "      <td>3</td>\n",
       "      <td>4.166667</td>\n",
       "      <td>3.324619e-02</td>\n",
       "    </tr>\n",
       "    <tr>\n",
       "      <th>918</th>\n",
       "      <td>aph</td>\n",
       "      <td>11</td>\n",
       "      <td>0.47</td>\n",
       "      <td>5</td>\n",
       "      <td>10.638298</td>\n",
       "      <td>5.073397e-05</td>\n",
       "    </tr>\n",
       "    <tr>\n",
       "      <th>3244</th>\n",
       "      <td>unannotated</td>\n",
       "      <td>6040</td>\n",
       "      <td>256.55</td>\n",
       "      <td>407</td>\n",
       "      <td>1.586435</td>\n",
       "      <td>2.081699e-37</td>\n",
       "    </tr>\n",
       "  </tbody>\n",
       "</table>\n",
       "</div>"
      ],
      "text/plain": [
       "               domain  annotated  expected  observed      ratio  \\\n",
       "5                  kr         32      1.36         4   2.941176   \n",
       "6               ps-dh         32      1.36         4   2.941176   \n",
       "7       ketoacyl-synt         37      1.57         5   3.184713   \n",
       "11        acyl_transf         39      1.66         6   3.614458   \n",
       "115   polyprenyl_synt         13      0.55         4   7.272727   \n",
       "193               het         43      1.83         5   2.732240   \n",
       "622        tyrosinase         17      0.72         3   4.166667   \n",
       "918               aph         11      0.47         5  10.638298   \n",
       "3244      unannotated       6040    256.55       407   1.586435   \n",
       "\n",
       "      p_value_fisher  \n",
       "5       4.519184e-02  \n",
       "6       4.519184e-02  \n",
       "7       1.925612e-02  \n",
       "11      5.651217e-03  \n",
       "115     1.694794e-03  \n",
       "193     3.460663e-02  \n",
       "622     3.324619e-02  \n",
       "918     5.073397e-05  \n",
       "3244    2.081699e-37  "
      ]
     },
     "execution_count": 35,
     "metadata": {},
     "output_type": "execute_result"
    }
   ],
   "source": [
    "df"
   ]
  },
  {
   "cell_type": "code",
   "execution_count": 36,
   "metadata": {},
   "outputs": [],
   "source": [
    "df.to_csv(\"pfam_enrichment.txt\", sep = '\\t')"
   ]
  },
  {
   "cell_type": "code",
   "execution_count": null,
   "metadata": {},
   "outputs": [],
   "source": [
    "## NLRS stuff"
   ]
  },
  {
   "cell_type": "code",
   "execution_count": 37,
   "metadata": {},
   "outputs": [],
   "source": [
    "df_unfiltered = pd.DataFrame(results_lol, columns = ['domain', 'annotated','expected','observed', 'ratio','p_value_fisher'])"
   ]
  },
  {
   "cell_type": "code",
   "execution_count": 39,
   "metadata": {},
   "outputs": [
    {
     "data": {
      "text/html": [
       "<div>\n",
       "<style scoped>\n",
       "    .dataframe tbody tr th:only-of-type {\n",
       "        vertical-align: middle;\n",
       "    }\n",
       "\n",
       "    .dataframe tbody tr th {\n",
       "        vertical-align: top;\n",
       "    }\n",
       "\n",
       "    .dataframe thead th {\n",
       "        text-align: right;\n",
       "    }\n",
       "</style>\n",
       "<table border=\"1\" class=\"dataframe\">\n",
       "  <thead>\n",
       "    <tr style=\"text-align: right;\">\n",
       "      <th></th>\n",
       "      <th>domain</th>\n",
       "      <th>annotated</th>\n",
       "      <th>expected</th>\n",
       "      <th>observed</th>\n",
       "      <th>ratio</th>\n",
       "      <th>p_value_fisher</th>\n",
       "    </tr>\n",
       "  </thead>\n",
       "  <tbody>\n",
       "    <tr>\n",
       "      <th>363</th>\n",
       "      <td>nacht</td>\n",
       "      <td>21</td>\n",
       "      <td>0.89</td>\n",
       "      <td>3</td>\n",
       "      <td>3.370787</td>\n",
       "      <td>0.057425</td>\n",
       "    </tr>\n",
       "  </tbody>\n",
       "</table>\n",
       "</div>"
      ],
      "text/plain": [
       "    domain  annotated  expected  observed     ratio  p_value_fisher\n",
       "363  nacht         21      0.89         3  3.370787        0.057425"
      ]
     },
     "execution_count": 39,
     "metadata": {},
     "output_type": "execute_result"
    }
   ],
   "source": [
    "df_unfiltered[df_unfiltered.domain==\"nacht\"]"
   ]
  },
  {
   "cell_type": "code",
   "execution_count": 43,
   "metadata": {},
   "outputs": [
    {
     "name": "stdout",
     "output_type": "stream",
     "text": [
      "OG0000359\n",
      "OG0010822\n",
      "OG0000062\n",
      "OG0009640\n",
      "OG0000863\n",
      "OG0000141\n",
      "OG0007690\n",
      "OG0011100\n",
      "OG0007718\n",
      "OG0000448\n",
      "OG0005353\n",
      "OG0005795\n",
      "OG0009110\n",
      "OG0000164\n",
      "OG0002313\n",
      "OG0000353\n",
      "OG0002514\n",
      "OG0009096\n",
      "OG0010503\n",
      "OG0012382\n",
      "OG0011748\n"
     ]
    }
   ],
   "source": [
    "for i in identified_ogs_per_domain['nacht']:\n",
    "    print(i)"
   ]
  },
  {
   "cell_type": "code",
   "execution_count": 40,
   "metadata": {},
   "outputs": [
    {
     "data": {
      "text/html": [
       "<div>\n",
       "<style scoped>\n",
       "    .dataframe tbody tr th:only-of-type {\n",
       "        vertical-align: middle;\n",
       "    }\n",
       "\n",
       "    .dataframe tbody tr th {\n",
       "        vertical-align: top;\n",
       "    }\n",
       "\n",
       "    .dataframe thead th {\n",
       "        text-align: right;\n",
       "    }\n",
       "</style>\n",
       "<table border=\"1\" class=\"dataframe\">\n",
       "  <thead>\n",
       "    <tr style=\"text-align: right;\">\n",
       "      <th></th>\n",
       "      <th>domain</th>\n",
       "      <th>annotated</th>\n",
       "      <th>expected</th>\n",
       "      <th>observed</th>\n",
       "      <th>ratio</th>\n",
       "      <th>p_value_fisher</th>\n",
       "    </tr>\n",
       "  </thead>\n",
       "  <tbody>\n",
       "    <tr>\n",
       "      <th>492</th>\n",
       "      <td>nb-arc</td>\n",
       "      <td>6</td>\n",
       "      <td>0.25</td>\n",
       "      <td>1</td>\n",
       "      <td>4.0</td>\n",
       "      <td>0.229308</td>\n",
       "    </tr>\n",
       "  </tbody>\n",
       "</table>\n",
       "</div>"
      ],
      "text/plain": [
       "     domain  annotated  expected  observed  ratio  p_value_fisher\n",
       "492  nb-arc          6      0.25         1    4.0        0.229308"
      ]
     },
     "execution_count": 40,
     "metadata": {},
     "output_type": "execute_result"
    }
   ],
   "source": [
    "df_unfiltered[df_unfiltered.domain==\"nb-arc\"]"
   ]
  },
  {
   "cell_type": "code",
   "execution_count": 45,
   "metadata": {},
   "outputs": [
    {
     "name": "stdout",
     "output_type": "stream",
     "text": [
      "OG0011044\n",
      "OG0004578\n",
      "OG0004455\n",
      "OG0000425\n",
      "OG0012475\n",
      "OG0012202\n"
     ]
    }
   ],
   "source": [
    "for i in identified_ogs_per_domain['nb-arc']:\n",
    "    print(i)"
   ]
  },
  {
   "cell_type": "code",
   "execution_count": 41,
   "metadata": {},
   "outputs": [
    {
     "data": {
      "text/html": [
       "<div>\n",
       "<style scoped>\n",
       "    .dataframe tbody tr th:only-of-type {\n",
       "        vertical-align: middle;\n",
       "    }\n",
       "\n",
       "    .dataframe tbody tr th {\n",
       "        vertical-align: top;\n",
       "    }\n",
       "\n",
       "    .dataframe thead th {\n",
       "        text-align: right;\n",
       "    }\n",
       "</style>\n",
       "<table border=\"1\" class=\"dataframe\">\n",
       "  <thead>\n",
       "    <tr style=\"text-align: right;\">\n",
       "      <th></th>\n",
       "      <th>domain</th>\n",
       "      <th>annotated</th>\n",
       "      <th>expected</th>\n",
       "      <th>observed</th>\n",
       "      <th>ratio</th>\n",
       "      <th>p_value_fisher</th>\n",
       "    </tr>\n",
       "  </thead>\n",
       "  <tbody>\n",
       "    <tr>\n",
       "      <th>193</th>\n",
       "      <td>het</td>\n",
       "      <td>43</td>\n",
       "      <td>1.83</td>\n",
       "      <td>5</td>\n",
       "      <td>2.73224</td>\n",
       "      <td>0.034607</td>\n",
       "    </tr>\n",
       "  </tbody>\n",
       "</table>\n",
       "</div>"
      ],
      "text/plain": [
       "    domain  annotated  expected  observed    ratio  p_value_fisher\n",
       "193    het         43      1.83         5  2.73224        0.034607"
      ]
     },
     "execution_count": 41,
     "metadata": {},
     "output_type": "execute_result"
    }
   ],
   "source": [
    "df_unfiltered[df_unfiltered.domain==\"het\"]"
   ]
  },
  {
   "cell_type": "code",
   "execution_count": 46,
   "metadata": {},
   "outputs": [
    {
     "name": "stdout",
     "output_type": "stream",
     "text": [
      "OG0009385\n",
      "OG0010487\n",
      "OG0000504\n",
      "OG0005491\n",
      "OG0009041\n",
      "OG0010059\n",
      "OG0005715\n",
      "OG0009379\n",
      "OG0000258\n",
      "OG0000474\n",
      "OG0000453\n",
      "OG0001531\n",
      "OG0007667\n",
      "OG0000411\n",
      "OG0000425\n",
      "OG0007692\n",
      "OG0004842\n",
      "OG0010037\n",
      "OG0000669\n",
      "OG0007763\n",
      "OG0000042\n",
      "OG0008922\n",
      "OG0006602\n",
      "OG0010586\n",
      "OG0011352\n",
      "OG0006049\n",
      "OG0008376\n",
      "OG0008557\n",
      "OG0000455\n",
      "OG0009354\n",
      "OG0005558\n",
      "OG0010685\n",
      "OG0000289\n",
      "OG0000278\n",
      "OG0009449\n",
      "OG0006151\n",
      "OG0010942\n",
      "OG0000320\n",
      "OG0000108\n",
      "OG0000637\n",
      "OG0010935\n",
      "OG0006607\n",
      "OG0011523\n"
     ]
    }
   ],
   "source": [
    "for i in identified_ogs_per_domain['het']:\n",
    "    print(i)"
   ]
  }
 ],
 "metadata": {
  "kernelspec": {
   "display_name": "Python 3.10.5 ('imbalanced_learn')",
   "language": "python",
   "name": "python3"
  },
  "language_info": {
   "codemirror_mode": {
    "name": "ipython",
    "version": 3
   },
   "file_extension": ".py",
   "mimetype": "text/x-python",
   "name": "python",
   "nbconvert_exporter": "python",
   "pygments_lexer": "ipython3",
   "version": "3.10.5"
  },
  "orig_nbformat": 4,
  "vscode": {
   "interpreter": {
    "hash": "c2315821898a4f1de250b11175021d0bad67aa42c758ebaa32223c2f00dcd7fb"
   }
  }
 },
 "nbformat": 4,
 "nbformat_minor": 2
}
