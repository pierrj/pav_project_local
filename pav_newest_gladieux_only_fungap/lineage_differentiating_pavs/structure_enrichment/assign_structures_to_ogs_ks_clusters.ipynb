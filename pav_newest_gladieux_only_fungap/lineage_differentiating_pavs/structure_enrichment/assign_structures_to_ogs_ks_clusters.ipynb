{
 "cells": [
  {
   "cell_type": "code",
   "execution_count": 73,
   "metadata": {},
   "outputs": [],
   "source": [
    "import pandas as pd\n",
    "from collections import Counter\n",
    "import csv\n",
    "import scipy.stats as stats"
   ]
  },
  {
   "cell_type": "code",
   "execution_count": 2,
   "metadata": {},
   "outputs": [],
   "source": [
    "## import Orthogroups with and without 70-15\n",
    "og_no_70_15 = '../../pipeline_methods/Orthogroups.tsv'\n",
    "og_w_70_15 = 'Orthogroups_w_70_15.tsv'"
   ]
  },
  {
   "cell_type": "code",
   "execution_count": 3,
   "metadata": {},
   "outputs": [],
   "source": [
    "og_no_70_15_df = pd.read_csv(og_no_70_15, dtype='string', sep='\\t', index_col = 0)\n",
    "og_w_70_15_df = pd.read_csv(og_w_70_15, dtype='string', sep='\\t', index_col = 0)"
   ]
  },
  {
   "cell_type": "code",
   "execution_count": 4,
   "metadata": {},
   "outputs": [],
   "source": [
    "## to get the og that a gene belongs to for orthogrouping without 70_15\n",
    "df_lol = og_no_70_15_df.values.tolist()\n",
    "\n",
    "og_dict_no_70_15 = {}\n",
    "\n",
    "for i, row in enumerate(df_lol):\n",
    "    og = og_no_70_15_df.index[i]\n",
    "    for cell in row:\n",
    "        if not pd.isnull(cell):\n",
    "            for protein in cell.split(', '):\n",
    "                og_dict_no_70_15[protein] = og"
   ]
  },
  {
   "cell_type": "code",
   "execution_count": 5,
   "metadata": {},
   "outputs": [],
   "source": [
    "## to get the og that a gene belongs to for orthogrouping with 70_15\n",
    "df_lol = og_w_70_15_df.values.tolist()\n",
    "\n",
    "og_dict_w_70_15 = {}\n",
    "\n",
    "for i, row in enumerate(df_lol):\n",
    "    og = og_w_70_15_df.index[i]\n",
    "    for cell in row:\n",
    "        if not pd.isnull(cell):\n",
    "            for protein in cell.split(', '):\n",
    "                og_dict_w_70_15[protein] = og"
   ]
  },
  {
   "cell_type": "code",
   "execution_count": 6,
   "metadata": {},
   "outputs": [],
   "source": [
    "## to get all genes associated with one OG for orthogrouping without 70_15\n",
    "genes_per_og_no_70_15 = {}\n",
    "\n",
    "for gene in og_dict_no_70_15:\n",
    "    og = og_dict_no_70_15[gene]\n",
    "    if og not in genes_per_og_no_70_15:\n",
    "        genes_per_og_no_70_15[og] = []\n",
    "    genes_per_og_no_70_15[og].append(gene)"
   ]
  },
  {
   "cell_type": "code",
   "execution_count": 7,
   "metadata": {},
   "outputs": [],
   "source": [
    "## to get all genes associated with one OG for orthogrouping with 70_15\n",
    "genes_per_og_w_70_15 = {}\n",
    "\n",
    "for gene in og_dict_w_70_15:\n",
    "    og = og_dict_w_70_15[gene]\n",
    "    if og not in genes_per_og_w_70_15:\n",
    "        genes_per_og_w_70_15[og] = []\n",
    "    genes_per_og_w_70_15[og].append(gene)"
   ]
  },
  {
   "cell_type": "code",
   "execution_count": 14,
   "metadata": {},
   "outputs": [],
   "source": [
    "df_ks_clusters = pd.read_excel('Magnaporthe_Oryza_Structure_prediction_and_clustering_metadata.zenodo.xlsx',skiprows=3)"
   ]
  },
  {
   "cell_type": "code",
   "execution_count": 15,
   "metadata": {},
   "outputs": [],
   "source": [
    "df_ks_clusters = df_ks_clusters[['Cluster','geneID']]"
   ]
  },
  {
   "cell_type": "code",
   "execution_count": 17,
   "metadata": {},
   "outputs": [],
   "source": [
    "ogs_w_70_15 = []\n",
    "\n",
    "for gene in df_ks_clusters.geneID:\n",
    "    if gene in og_dict_w_70_15:\n",
    "        ogs_w_70_15.append(og_dict_w_70_15[gene])\n",
    "    else:\n",
    "        ogs_w_70_15.append('not found')\n",
    "\n",
    "df_ks_clusters['ogs_w_70_15'] = ogs_w_70_15"
   ]
  },
  {
   "cell_type": "code",
   "execution_count": 159,
   "metadata": {},
   "outputs": [],
   "source": [
    "ogs_per_cluster_no_70_15 = {}\n",
    "already_seen_og = []\n",
    "\n",
    "for idx in df_ks_clusters.index:\n",
    "    cluster = df_ks_clusters.Cluster[idx]\n",
    "    og = df_ks_clusters.ogs_w_70_15[idx]\n",
    "    if og in genes_per_og_w_70_15:\n",
    "        genes_in_og = genes_per_og_w_70_15[og]\n",
    "    else:\n",
    "        continue\n",
    "    for gene in genes_in_og:\n",
    "        if gene in og_dict_no_70_15:\n",
    "            if cluster not in ogs_per_cluster_no_70_15:\n",
    "                ogs_per_cluster_no_70_15[cluster] = []\n",
    "            cluster_ogs = ogs_per_cluster_no_70_15[cluster]\n",
    "            if og_dict_no_70_15[gene] not in cluster_ogs and og_dict_no_70_15[gene] not in already_seen_og:\n",
    "                    cluster_ogs.append(og_dict_no_70_15[gene])\n",
    "                    already_seen_og.append(og_dict_no_70_15[gene]) ## deal with ogs in two different clusters"
   ]
  },
  {
   "cell_type": "code",
   "execution_count": 161,
   "metadata": {},
   "outputs": [],
   "source": [
    "clusters_per_og_no_70_15 = {}\n",
    "\n",
    "for cluster in ogs_per_cluster_no_70_15:\n",
    "    ogs_per_cluster = ogs_per_cluster_no_70_15[cluster]\n",
    "    for og in ogs_per_cluster:\n",
    "        if og not in clusters_per_og_no_70_15:\n",
    "            clusters_per_og_no_70_15[og] = cluster\n",
    "## some of them appear twice but its pretty inconsequential, just keep the most populated cluster"
   ]
  },
  {
   "cell_type": "code",
   "execution_count": 163,
   "metadata": {},
   "outputs": [],
   "source": [
    "annotated_ogs = []\n",
    "\n",
    "for cluster in ogs_per_cluster_no_70_15:\n",
    "    for og in ogs_per_cluster_no_70_15[cluster]:\n",
    "        if og not in annotated_ogs:\n",
    "            annotated_ogs.append(og)"
   ]
  },
  {
   "cell_type": "code",
   "execution_count": 164,
   "metadata": {},
   "outputs": [],
   "source": [
    "ogs_per_cluster_no_70_15_counted = {}\n",
    "\n",
    "for cluster in ogs_per_cluster_no_70_15:\n",
    "    ogs_per_cluster_no_70_15_counted[cluster] = len(ogs_per_cluster_no_70_15[cluster])"
   ]
  },
  {
   "cell_type": "code",
   "execution_count": 165,
   "metadata": {},
   "outputs": [],
   "source": [
    "lineage_differentiating_ogs = []\n",
    "\n",
    "with open('../pca_heat_map_phylogeny/lineage_differentiating_pavs.txt') as file:\n",
    "    file_reader = csv.reader(file, delimiter = '\\t')\n",
    "    for row in file_reader:\n",
    "        lineage_differentiating_ogs.append(row[0])"
   ]
  },
  {
   "cell_type": "code",
   "execution_count": 166,
   "metadata": {},
   "outputs": [],
   "source": [
    "annotated_lineage_differentiating_ogs = []\n",
    "\n",
    "for og in lineage_differentiating_ogs:\n",
    "    if og in annotated_ogs:\n",
    "        annotated_lineage_differentiating_ogs.append(og)"
   ]
  },
  {
   "cell_type": "code",
   "execution_count": 167,
   "metadata": {},
   "outputs": [],
   "source": [
    "ratio = len(annotated_lineage_differentiating_ogs)/len(annotated_ogs)"
   ]
  },
  {
   "cell_type": "code",
   "execution_count": 168,
   "metadata": {},
   "outputs": [],
   "source": [
    "ogs_per_cluster_expected = {}\n",
    "\n",
    "for cluster in ogs_per_cluster_no_70_15_counted:\n",
    "    ogs_per_cluster_expected[cluster] = round(ogs_per_cluster_no_70_15_counted[cluster] * ratio, 2)"
   ]
  },
  {
   "cell_type": "code",
   "execution_count": 169,
   "metadata": {},
   "outputs": [],
   "source": [
    "ogs_per_cluster_observed = {}\n",
    "\n",
    "for og in lineage_differentiating_ogs:\n",
    "    if og in clusters_per_og_no_70_15:\n",
    "        cluster = clusters_per_og_no_70_15[og]\n",
    "        if cluster not in ogs_per_cluster_observed:\n",
    "            ogs_per_cluster_observed[cluster] = 1\n",
    "        else:\n",
    "            ogs_per_cluster_observed[cluster] += 1\n",
    "\n",
    "for cluster in ogs_per_cluster_expected:\n",
    "    if cluster not in ogs_per_cluster_observed:\n",
    "        ogs_per_cluster_observed[cluster] = 0"
   ]
  },
  {
   "cell_type": "code",
   "execution_count": 170,
   "metadata": {},
   "outputs": [],
   "source": [
    "ogs_per_cluster_notobserved = {}\n",
    "\n",
    "for og in clusters_per_og_no_70_15:\n",
    "    if og not in lineage_differentiating_ogs:\n",
    "        cluster = clusters_per_og_no_70_15[og]\n",
    "        if cluster not in ogs_per_cluster_notobserved:\n",
    "            ogs_per_cluster_notobserved[cluster] = 1\n",
    "        else:\n",
    "            ogs_per_cluster_notobserved[cluster] += 1\n",
    "\n",
    "for cluster in ogs_per_cluster_no_70_15_counted:\n",
    "    if cluster not in ogs_per_cluster_notobserved:\n",
    "        ogs_per_cluster_notobserved[cluster] = 0"
   ]
  },
  {
   "cell_type": "code",
   "execution_count": 176,
   "metadata": {},
   "outputs": [],
   "source": [
    "results_lol = []\n",
    "\n",
    "for cluster in ogs_per_cluster_expected:\n",
    "    if cluster < 100: ## just skip the smaller clusters\n",
    "        observed = len(lineage_differentiating_ogs)\n",
    "        not_observed = len(annotated_ogs)-observed\n",
    "        annotated = ogs_per_cluster_no_70_15_counted[cluster]\n",
    "        unannotated = len(annotated_ogs) - annotated\n",
    "        observed_annotated = ogs_per_cluster_observed[cluster]\n",
    "        observed_unannotated = observed-observed_annotated\n",
    "        notobserved_annotated = ogs_per_cluster_notobserved[cluster]\n",
    "        notobserved_unannotated = not_observed - notobserved_annotated\n",
    "        table = [\n",
    "            [observed_annotated, observed_unannotated],\n",
    "            [notobserved_annotated, notobserved_unannotated]\n",
    "        ]\n",
    "        if (observed_annotated + observed_unannotated != observed or notobserved_annotated + notobserved_unannotated != not_observed or\n",
    "            observed_annotated + notobserved_annotated != annotated or observed_unannotated + notobserved_unannotated != unannotated):\n",
    "            print(cluster)\n",
    "            print(observed)\n",
    "            print(not_observed)\n",
    "            print(annotated)\n",
    "            print(unannotated)\n",
    "            print(table[0])\n",
    "            print(table[1])\n",
    "            raise ValueError(\"sums arent right\")\n",
    "        p_value_fisher = stats.fisher_exact(table)[1]\n",
    "        results_lol.append([cluster, ogs_per_cluster_no_70_15_counted[cluster], ogs_per_cluster_expected[cluster], ogs_per_cluster_observed[cluster], ogs_per_cluster_observed[cluster]/ogs_per_cluster_expected[cluster],p_value_fisher])"
   ]
  },
  {
   "cell_type": "code",
   "execution_count": 191,
   "metadata": {},
   "outputs": [],
   "source": [
    "df = pd.DataFrame(results_lol, columns = ['cluster', 'annotated','expected','observed', 'ratio','p_value_fisher'])"
   ]
  },
  {
   "cell_type": "code",
   "execution_count": 192,
   "metadata": {},
   "outputs": [],
   "source": [
    "df = df[df.observed >= 2]"
   ]
  },
  {
   "cell_type": "code",
   "execution_count": 193,
   "metadata": {},
   "outputs": [
    {
     "data": {
      "text/html": [
       "<div>\n",
       "<style scoped>\n",
       "    .dataframe tbody tr th:only-of-type {\n",
       "        vertical-align: middle;\n",
       "    }\n",
       "\n",
       "    .dataframe tbody tr th {\n",
       "        vertical-align: top;\n",
       "    }\n",
       "\n",
       "    .dataframe thead th {\n",
       "        text-align: right;\n",
       "    }\n",
       "</style>\n",
       "<table border=\"1\" class=\"dataframe\">\n",
       "  <thead>\n",
       "    <tr style=\"text-align: right;\">\n",
       "      <th></th>\n",
       "      <th>cluster</th>\n",
       "      <th>annotated</th>\n",
       "      <th>expected</th>\n",
       "      <th>observed</th>\n",
       "      <th>ratio</th>\n",
       "      <th>p_value_fisher</th>\n",
       "    </tr>\n",
       "  </thead>\n",
       "  <tbody>\n",
       "    <tr>\n",
       "      <th>1</th>\n",
       "      <td>2</td>\n",
       "      <td>69</td>\n",
       "      <td>2.66</td>\n",
       "      <td>2</td>\n",
       "      <td>0.751880</td>\n",
       "      <td>2.801322e-11</td>\n",
       "    </tr>\n",
       "    <tr>\n",
       "      <th>2</th>\n",
       "      <td>3</td>\n",
       "      <td>58</td>\n",
       "      <td>2.23</td>\n",
       "      <td>2</td>\n",
       "      <td>0.896861</td>\n",
       "      <td>3.907396e-09</td>\n",
       "    </tr>\n",
       "    <tr>\n",
       "      <th>3</th>\n",
       "      <td>4</td>\n",
       "      <td>43</td>\n",
       "      <td>1.66</td>\n",
       "      <td>2</td>\n",
       "      <td>1.204819</td>\n",
       "      <td>2.284747e-06</td>\n",
       "    </tr>\n",
       "    <tr>\n",
       "      <th>4</th>\n",
       "      <td>5</td>\n",
       "      <td>37</td>\n",
       "      <td>1.43</td>\n",
       "      <td>2</td>\n",
       "      <td>1.398601</td>\n",
       "      <td>1.774002e-05</td>\n",
       "    </tr>\n",
       "    <tr>\n",
       "      <th>7</th>\n",
       "      <td>8</td>\n",
       "      <td>18</td>\n",
       "      <td>0.69</td>\n",
       "      <td>2</td>\n",
       "      <td>2.898551</td>\n",
       "      <td>2.670172e-02</td>\n",
       "    </tr>\n",
       "    <tr>\n",
       "      <th>10</th>\n",
       "      <td>11</td>\n",
       "      <td>18</td>\n",
       "      <td>0.69</td>\n",
       "      <td>2</td>\n",
       "      <td>2.898551</td>\n",
       "      <td>2.670172e-02</td>\n",
       "    </tr>\n",
       "    <tr>\n",
       "      <th>14</th>\n",
       "      <td>15</td>\n",
       "      <td>15</td>\n",
       "      <td>0.58</td>\n",
       "      <td>3</td>\n",
       "      <td>5.172414</td>\n",
       "      <td>2.811518e-01</td>\n",
       "    </tr>\n",
       "  </tbody>\n",
       "</table>\n",
       "</div>"
      ],
      "text/plain": [
       "    cluster  annotated  expected  observed     ratio  p_value_fisher\n",
       "1         2         69      2.66         2  0.751880    2.801322e-11\n",
       "2         3         58      2.23         2  0.896861    3.907396e-09\n",
       "3         4         43      1.66         2  1.204819    2.284747e-06\n",
       "4         5         37      1.43         2  1.398601    1.774002e-05\n",
       "7         8         18      0.69         2  2.898551    2.670172e-02\n",
       "10       11         18      0.69         2  2.898551    2.670172e-02\n",
       "14       15         15      0.58         3  5.172414    2.811518e-01"
      ]
     },
     "execution_count": 193,
     "metadata": {},
     "output_type": "execute_result"
    }
   ],
   "source": [
    "df.head(100)"
   ]
  },
  {
   "cell_type": "code",
   "execution_count": 180,
   "metadata": {},
   "outputs": [],
   "source": [
    "old_clust_ogs = ['OG0001435'\n",
    "'OG0001466',\n",
    "'OG0010616',\n",
    "'OG0010837',\n",
    "'OG0011142',\n",
    "'OG0011166',\n",
    "'OG0011236',\n",
    "'OG0011690'\n",
    "]"
   ]
  },
  {
   "cell_type": "code",
   "execution_count": 181,
   "metadata": {},
   "outputs": [
    {
     "name": "stdout",
     "output_type": "stream",
     "text": [
      "OG0011166\n"
     ]
    }
   ],
   "source": [
    "for og in old_clust_8_ogs:\n",
    "    if og in lineage_differentiating_ogs:\n",
    "        print(og)"
   ]
  },
  {
   "cell_type": "code",
   "execution_count": 186,
   "metadata": {},
   "outputs": [
    {
     "name": "stdout",
     "output_type": "stream",
     "text": [
      "OG0011689\n",
      "OG0013361\n"
     ]
    }
   ],
   "source": [
    "for og in ogs_per_cluster_no_70_15[8]:\n",
    "    if og in lineage_differentiating_ogs:\n",
    "        print(og)"
   ]
  }
 ],
 "metadata": {
  "kernelspec": {
   "display_name": "Python 3.10.5 ('imbalanced_learn')",
   "language": "python",
   "name": "python3"
  },
  "language_info": {
   "codemirror_mode": {
    "name": "ipython",
    "version": 3
   },
   "file_extension": ".py",
   "mimetype": "text/x-python",
   "name": "python",
   "nbconvert_exporter": "python",
   "pygments_lexer": "ipython3",
   "version": "3.10.5"
  },
  "orig_nbformat": 4,
  "vscode": {
   "interpreter": {
    "hash": "c2315821898a4f1de250b11175021d0bad67aa42c758ebaa32223c2f00dcd7fb"
   }
  }
 },
 "nbformat": 4,
 "nbformat_minor": 2
}
